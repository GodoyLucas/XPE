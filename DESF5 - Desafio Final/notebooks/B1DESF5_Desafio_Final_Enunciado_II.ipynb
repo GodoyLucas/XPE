{
  "nbformat": 4,
  "nbformat_minor": 0,
  "metadata": {
    "colab": {
      "provenance": [],
      "authorship_tag": "ABX9TyMgyJmDzQZnLKeByQC1ojQM",
      "include_colab_link": true
    },
    "kernelspec": {
      "name": "python3",
      "display_name": "Python 3"
    },
    "language_info": {
      "name": "python"
    }
  },
  "cells": [
    {
      "cell_type": "markdown",
      "metadata": {
        "id": "view-in-github",
        "colab_type": "text"
      },
      "source": [
        "<a href=\"https://colab.research.google.com/github/GodoyLucas/XPE/blob/main/B1DESF5_Desafio_Final_Enunciado_II.ipynb\" target=\"_parent\"><img src=\"https://colab.research.google.com/assets/colab-badge.svg\" alt=\"Open In Colab\"/></a>"
      ]
    },
    {
      "cell_type": "code",
      "execution_count": null,
      "metadata": {
        "id": "qwrIT5zCP5Sn"
      },
      "outputs": [],
      "source": []
    }
  ]
}
