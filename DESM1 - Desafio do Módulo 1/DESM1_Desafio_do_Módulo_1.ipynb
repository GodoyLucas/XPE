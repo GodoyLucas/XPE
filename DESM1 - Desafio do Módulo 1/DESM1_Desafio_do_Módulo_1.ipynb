{
  "nbformat": 4,
  "nbformat_minor": 0,
  "metadata": {
    "colab": {
      "provenance": [],
      "authorship_tag": "ABX9TyPi4saHDszzsFbx4WlZkiVY",
      "include_colab_link": true
    },
    "kernelspec": {
      "name": "python3",
      "display_name": "Python 3"
    },
    "language_info": {
      "name": "python"
    }
  },
  "cells": [
    {
      "cell_type": "markdown",
      "metadata": {
        "id": "view-in-github",
        "colab_type": "text"
      },
      "source": [
        "<a href=\"https://colab.research.google.com/github/GodoyLucas/XPE/blob/main/DESM1%20-%20Desafio%20do%20M%C3%B3dulo%201/DESM1_Desafio_do_M%C3%B3dulo_1.ipynb\" target=\"_parent\"><img src=\"https://colab.research.google.com/assets/colab-badge.svg\" alt=\"Open In Colab\"/></a>"
      ]
    },
    {
      "cell_type": "markdown",
      "source": [
        "#Importanto biblioteca Pandas"
      ],
      "metadata": {
        "id": "ZO2Fd4jCo_qC"
      }
    },
    {
      "cell_type": "code",
      "execution_count": 205,
      "metadata": {
        "id": "7EAdm93z9Qau"
      },
      "outputs": [],
      "source": [
        "import pandas as pd"
      ]
    },
    {
      "cell_type": "markdown",
      "source": [
        "#Declarando variáveis para receberem o link dos dados utilizados no estudo"
      ],
      "metadata": {
        "id": "90YU0JqHpDme"
      }
    },
    {
      "cell_type": "code",
      "source": [
        "url_clientes = \"https://raw.githubusercontent.com/GodoyLucas/XPE/main/DESM1%20-%20Desafio%20do%20M%C3%B3dulo%201/dados_clientes.csv\"\n",
        "url_idade_clientes = 'https://raw.githubusercontent.com/GodoyLucas/XPE/main/DESM1%20-%20Desafio%20do%20M%C3%B3dulo%201/idade_clientes.csv'\n",
        "url_estados = 'https://raw.githubusercontent.com/GodoyLucas/XPE/main/DESM1%20-%20Desafio%20do%20M%C3%B3dulo%201/estados_brasileiros.csv'"
      ],
      "metadata": {
        "id": "oQdUTBDN9jvv"
      },
      "execution_count": 206,
      "outputs": []
    },
    {
      "cell_type": "markdown",
      "source": [
        "#Fazendo a leitura e carregamento dos dados"
      ],
      "metadata": {
        "id": "gNdoYiMTpkm3"
      }
    },
    {
      "cell_type": "code",
      "source": [
        "df_clientes = pd.read_csv(url_clientes, sep = ';')\n",
        "df_idade_clientes = pd.read_csv(url_idade_clientes, sep = ';')\n",
        "df_estados = pd.read_csv(url_estados, sep = ';', encoding = 'latin-1')"
      ],
      "metadata": {
        "id": "HKmXmgkV-wOw"
      },
      "execution_count": 207,
      "outputs": []
    },
    {
      "cell_type": "markdown",
      "source": [
        "#Verificando conjunto de dados"
      ],
      "metadata": {
        "id": "Djl4a5MGpr3w"
      }
    },
    {
      "cell_type": "code",
      "source": [
        "df_clientes.info()"
      ],
      "metadata": {
        "colab": {
          "base_uri": "https://localhost:8080/"
        },
        "id": "ESNp09-FANXk",
        "outputId": "751122b0-6885-443e-b4e3-617de90a87d6"
      },
      "execution_count": 208,
      "outputs": [
        {
          "output_type": "stream",
          "name": "stdout",
          "text": [
            "<class 'pandas.core.frame.DataFrame'>\n",
            "RangeIndex: 547 entries, 0 to 546\n",
            "Data columns (total 5 columns):\n",
            " #   Column      Non-Null Count  Dtype  \n",
            "---  ------      --------------  -----  \n",
            " 0   id_cliente  547 non-null    int64  \n",
            " 1   peso        542 non-null    float64\n",
            " 2   colesterol  547 non-null    int64  \n",
            " 3   genero      547 non-null    object \n",
            " 4   id_estado   547 non-null    int64  \n",
            "dtypes: float64(1), int64(3), object(1)\n",
            "memory usage: 21.5+ KB\n"
          ]
        }
      ]
    },
    {
      "cell_type": "code",
      "source": [
        "df_idade_clientes.info()"
      ],
      "metadata": {
        "colab": {
          "base_uri": "https://localhost:8080/"
        },
        "id": "oWpKi0XOHGza",
        "outputId": "3556d967-f61f-455c-b863-b574a47b96c7"
      },
      "execution_count": 209,
      "outputs": [
        {
          "output_type": "stream",
          "name": "stdout",
          "text": [
            "<class 'pandas.core.frame.DataFrame'>\n",
            "RangeIndex: 547 entries, 0 to 546\n",
            "Data columns (total 2 columns):\n",
            " #   Column      Non-Null Count  Dtype\n",
            "---  ------      --------------  -----\n",
            " 0   id_cliente  547 non-null    int64\n",
            " 1   idade       547 non-null    int64\n",
            "dtypes: int64(2)\n",
            "memory usage: 8.7 KB\n"
          ]
        }
      ]
    },
    {
      "cell_type": "code",
      "source": [
        "df_estados.info()"
      ],
      "metadata": {
        "colab": {
          "base_uri": "https://localhost:8080/"
        },
        "id": "gqOIopVXowMy",
        "outputId": "c8074339-182f-47a6-c06e-39455936f426"
      },
      "execution_count": 210,
      "outputs": [
        {
          "output_type": "stream",
          "name": "stdout",
          "text": [
            "<class 'pandas.core.frame.DataFrame'>\n",
            "RangeIndex: 27 entries, 0 to 26\n",
            "Data columns (total 4 columns):\n",
            " #   Column        Non-Null Count  Dtype \n",
            "---  ------        --------------  ----- \n",
            " 0   id_estado     27 non-null     int64 \n",
            " 1   estado        27 non-null     object\n",
            " 2   sigla_estado  27 non-null     object\n",
            " 3   pais          25 non-null     object\n",
            "dtypes: int64(1), object(3)\n",
            "memory usage: 992.0+ bytes\n"
          ]
        }
      ]
    },
    {
      "cell_type": "markdown",
      "source": [
        "Verificado a ausência de dados no campo 'pais' do dataframe dos estados e do campo 'peso' do dataframe de clientes."
      ],
      "metadata": {
        "id": "0bLwZIJdpzQK"
      }
    },
    {
      "cell_type": "markdown",
      "source": [
        "#Consolidando dados em um só DataFrame"
      ],
      "metadata": {
        "id": "1-qi3crrq7ey"
      }
    },
    {
      "cell_type": "markdown",
      "source": [
        "##Realizando a junção"
      ],
      "metadata": {
        "id": "8GOBWd7Brl4M"
      }
    },
    {
      "cell_type": "code",
      "source": [
        "df_completo = pd.merge(df_clientes, df_idade_clientes, on = 'id_cliente')\n",
        "df_completo = pd.merge(df_completo, df_estados, on = 'id_estado')\n",
        "df_completo.head()"
      ],
      "metadata": {
        "colab": {
          "base_uri": "https://localhost:8080/",
          "height": 206
        },
        "id": "plm1ki_krENg",
        "outputId": "dca8e5e9-01cc-4808-e935-c4923928848c"
      },
      "execution_count": 211,
      "outputs": [
        {
          "output_type": "execute_result",
          "data": {
            "text/plain": [
              "   id_cliente   peso  colesterol     genero  id_estado  idade   estado  \\\n",
              "0           1  102.0         111  Masculino         23     17  Roraima   \n",
              "1          54  149.0         183  Masculino         23     48  Roraima   \n",
              "2          61  113.0         129   Feminino         23     70  Roraima   \n",
              "3         147    NaN         171  Masculino         23     40  Roraima   \n",
              "4         154  134.0         162   Feminino         23     26  Roraima   \n",
              "\n",
              "  sigla_estado    pais  \n",
              "0           rr  Brasil  \n",
              "1           rr  Brasil  \n",
              "2           rr  Brasil  \n",
              "3           rr  Brasil  \n",
              "4           rr  Brasil  "
            ],
            "text/html": [
              "\n",
              "  <div id=\"df-90c7f396-d444-4409-b323-6a19ca13a8a7\">\n",
              "    <div class=\"colab-df-container\">\n",
              "      <div>\n",
              "<style scoped>\n",
              "    .dataframe tbody tr th:only-of-type {\n",
              "        vertical-align: middle;\n",
              "    }\n",
              "\n",
              "    .dataframe tbody tr th {\n",
              "        vertical-align: top;\n",
              "    }\n",
              "\n",
              "    .dataframe thead th {\n",
              "        text-align: right;\n",
              "    }\n",
              "</style>\n",
              "<table border=\"1\" class=\"dataframe\">\n",
              "  <thead>\n",
              "    <tr style=\"text-align: right;\">\n",
              "      <th></th>\n",
              "      <th>id_cliente</th>\n",
              "      <th>peso</th>\n",
              "      <th>colesterol</th>\n",
              "      <th>genero</th>\n",
              "      <th>id_estado</th>\n",
              "      <th>idade</th>\n",
              "      <th>estado</th>\n",
              "      <th>sigla_estado</th>\n",
              "      <th>pais</th>\n",
              "    </tr>\n",
              "  </thead>\n",
              "  <tbody>\n",
              "    <tr>\n",
              "      <th>0</th>\n",
              "      <td>1</td>\n",
              "      <td>102.0</td>\n",
              "      <td>111</td>\n",
              "      <td>Masculino</td>\n",
              "      <td>23</td>\n",
              "      <td>17</td>\n",
              "      <td>Roraima</td>\n",
              "      <td>rr</td>\n",
              "      <td>Brasil</td>\n",
              "    </tr>\n",
              "    <tr>\n",
              "      <th>1</th>\n",
              "      <td>54</td>\n",
              "      <td>149.0</td>\n",
              "      <td>183</td>\n",
              "      <td>Masculino</td>\n",
              "      <td>23</td>\n",
              "      <td>48</td>\n",
              "      <td>Roraima</td>\n",
              "      <td>rr</td>\n",
              "      <td>Brasil</td>\n",
              "    </tr>\n",
              "    <tr>\n",
              "      <th>2</th>\n",
              "      <td>61</td>\n",
              "      <td>113.0</td>\n",
              "      <td>129</td>\n",
              "      <td>Feminino</td>\n",
              "      <td>23</td>\n",
              "      <td>70</td>\n",
              "      <td>Roraima</td>\n",
              "      <td>rr</td>\n",
              "      <td>Brasil</td>\n",
              "    </tr>\n",
              "    <tr>\n",
              "      <th>3</th>\n",
              "      <td>147</td>\n",
              "      <td>NaN</td>\n",
              "      <td>171</td>\n",
              "      <td>Masculino</td>\n",
              "      <td>23</td>\n",
              "      <td>40</td>\n",
              "      <td>Roraima</td>\n",
              "      <td>rr</td>\n",
              "      <td>Brasil</td>\n",
              "    </tr>\n",
              "    <tr>\n",
              "      <th>4</th>\n",
              "      <td>154</td>\n",
              "      <td>134.0</td>\n",
              "      <td>162</td>\n",
              "      <td>Feminino</td>\n",
              "      <td>23</td>\n",
              "      <td>26</td>\n",
              "      <td>Roraima</td>\n",
              "      <td>rr</td>\n",
              "      <td>Brasil</td>\n",
              "    </tr>\n",
              "  </tbody>\n",
              "</table>\n",
              "</div>\n",
              "      <button class=\"colab-df-convert\" onclick=\"convertToInteractive('df-90c7f396-d444-4409-b323-6a19ca13a8a7')\"\n",
              "              title=\"Convert this dataframe to an interactive table.\"\n",
              "              style=\"display:none;\">\n",
              "        \n",
              "  <svg xmlns=\"http://www.w3.org/2000/svg\" height=\"24px\"viewBox=\"0 0 24 24\"\n",
              "       width=\"24px\">\n",
              "    <path d=\"M0 0h24v24H0V0z\" fill=\"none\"/>\n",
              "    <path d=\"M18.56 5.44l.94 2.06.94-2.06 2.06-.94-2.06-.94-.94-2.06-.94 2.06-2.06.94zm-11 1L8.5 8.5l.94-2.06 2.06-.94-2.06-.94L8.5 2.5l-.94 2.06-2.06.94zm10 10l.94 2.06.94-2.06 2.06-.94-2.06-.94-.94-2.06-.94 2.06-2.06.94z\"/><path d=\"M17.41 7.96l-1.37-1.37c-.4-.4-.92-.59-1.43-.59-.52 0-1.04.2-1.43.59L10.3 9.45l-7.72 7.72c-.78.78-.78 2.05 0 2.83L4 21.41c.39.39.9.59 1.41.59.51 0 1.02-.2 1.41-.59l7.78-7.78 2.81-2.81c.8-.78.8-2.07 0-2.86zM5.41 20L4 18.59l7.72-7.72 1.47 1.35L5.41 20z\"/>\n",
              "  </svg>\n",
              "      </button>\n",
              "      \n",
              "  <style>\n",
              "    .colab-df-container {\n",
              "      display:flex;\n",
              "      flex-wrap:wrap;\n",
              "      gap: 12px;\n",
              "    }\n",
              "\n",
              "    .colab-df-convert {\n",
              "      background-color: #E8F0FE;\n",
              "      border: none;\n",
              "      border-radius: 50%;\n",
              "      cursor: pointer;\n",
              "      display: none;\n",
              "      fill: #1967D2;\n",
              "      height: 32px;\n",
              "      padding: 0 0 0 0;\n",
              "      width: 32px;\n",
              "    }\n",
              "\n",
              "    .colab-df-convert:hover {\n",
              "      background-color: #E2EBFA;\n",
              "      box-shadow: 0px 1px 2px rgba(60, 64, 67, 0.3), 0px 1px 3px 1px rgba(60, 64, 67, 0.15);\n",
              "      fill: #174EA6;\n",
              "    }\n",
              "\n",
              "    [theme=dark] .colab-df-convert {\n",
              "      background-color: #3B4455;\n",
              "      fill: #D2E3FC;\n",
              "    }\n",
              "\n",
              "    [theme=dark] .colab-df-convert:hover {\n",
              "      background-color: #434B5C;\n",
              "      box-shadow: 0px 1px 3px 1px rgba(0, 0, 0, 0.15);\n",
              "      filter: drop-shadow(0px 1px 2px rgba(0, 0, 0, 0.3));\n",
              "      fill: #FFFFFF;\n",
              "    }\n",
              "  </style>\n",
              "\n",
              "      <script>\n",
              "        const buttonEl =\n",
              "          document.querySelector('#df-90c7f396-d444-4409-b323-6a19ca13a8a7 button.colab-df-convert');\n",
              "        buttonEl.style.display =\n",
              "          google.colab.kernel.accessAllowed ? 'block' : 'none';\n",
              "\n",
              "        async function convertToInteractive(key) {\n",
              "          const element = document.querySelector('#df-90c7f396-d444-4409-b323-6a19ca13a8a7');\n",
              "          const dataTable =\n",
              "            await google.colab.kernel.invokeFunction('convertToInteractive',\n",
              "                                                     [key], {});\n",
              "          if (!dataTable) return;\n",
              "\n",
              "          const docLinkHtml = 'Like what you see? Visit the ' +\n",
              "            '<a target=\"_blank\" href=https://colab.research.google.com/notebooks/data_table.ipynb>data table notebook</a>'\n",
              "            + ' to learn more about interactive tables.';\n",
              "          element.innerHTML = '';\n",
              "          dataTable['output_type'] = 'display_data';\n",
              "          await google.colab.output.renderOutput(dataTable, element);\n",
              "          const docLink = document.createElement('div');\n",
              "          docLink.innerHTML = docLinkHtml;\n",
              "          element.appendChild(docLink);\n",
              "        }\n",
              "      </script>\n",
              "    </div>\n",
              "  </div>\n",
              "  "
            ]
          },
          "metadata": {},
          "execution_count": 211
        }
      ]
    },
    {
      "cell_type": "markdown",
      "source": [
        "##Verificando conjunto de dados após junção em um só DataFrame"
      ],
      "metadata": {
        "id": "qD4bkx8mrsCA"
      }
    },
    {
      "cell_type": "code",
      "source": [
        "df_completo.info()"
      ],
      "metadata": {
        "colab": {
          "base_uri": "https://localhost:8080/"
        },
        "id": "t2jaCsopJ1-A",
        "outputId": "c7a887b4-e512-4742-a4bd-6f8f49cc7215"
      },
      "execution_count": 212,
      "outputs": [
        {
          "output_type": "stream",
          "name": "stdout",
          "text": [
            "<class 'pandas.core.frame.DataFrame'>\n",
            "Int64Index: 547 entries, 0 to 546\n",
            "Data columns (total 9 columns):\n",
            " #   Column        Non-Null Count  Dtype  \n",
            "---  ------        --------------  -----  \n",
            " 0   id_cliente    547 non-null    int64  \n",
            " 1   peso          542 non-null    float64\n",
            " 2   colesterol    547 non-null    int64  \n",
            " 3   genero        547 non-null    object \n",
            " 4   id_estado     547 non-null    int64  \n",
            " 5   idade         547 non-null    int64  \n",
            " 6   estado        547 non-null    object \n",
            " 7   sigla_estado  547 non-null    object \n",
            " 8   pais          502 non-null    object \n",
            "dtypes: float64(1), int64(4), object(4)\n",
            "memory usage: 42.7+ KB\n"
          ]
        }
      ]
    },
    {
      "cell_type": "markdown",
      "source": [
        "##Tratando ausência de dados em alguns registros"
      ],
      "metadata": {
        "id": "fY652HglsEVu"
      }
    },
    {
      "cell_type": "markdown",
      "source": [
        "Tratamento realizado a partir da exclusão de registros com dados faltantes."
      ],
      "metadata": {
        "id": "x7knd6snsqD2"
      }
    },
    {
      "cell_type": "code",
      "source": [
        "df_completo_tratado = df_completo.dropna(subset=['peso', 'pais'])\n",
        "df_completo_tratado.reset_index(inplace = True, drop=True)\n",
        "df_completo_tratado"
      ],
      "metadata": {
        "colab": {
          "base_uri": "https://localhost:8080/",
          "height": 424
        },
        "id": "1JloWgBvsBiL",
        "outputId": "dbdbf444-9a9d-4c87-99f3-c613e3ceef51"
      },
      "execution_count": 213,
      "outputs": [
        {
          "output_type": "execute_result",
          "data": {
            "text/plain": [
              "     id_cliente   peso  colesterol     genero  id_estado  idade  \\\n",
              "0             1  102.0         111  Masculino         23     17   \n",
              "1            54  149.0         183  Masculino         23     48   \n",
              "2            61  113.0         129   Feminino         23     70   \n",
              "3           154  134.0         162   Feminino         23     26   \n",
              "4           164  133.0         155   Feminino         23     51   \n",
              "..          ...    ...         ...        ...        ...    ...   \n",
              "493         452  117.0         138   Feminino         19     61   \n",
              "494         454  106.0         115  Masculino         19     70   \n",
              "495         510  110.0         120   Feminino         19     48   \n",
              "496         516  166.0         200   Feminino         19     47   \n",
              "497         523  103.0         110  Masculino         19     26   \n",
              "\n",
              "             estado sigla_estado    pais  \n",
              "0           Roraima           rr  Brasil  \n",
              "1           Roraima           rr  Brasil  \n",
              "2           Roraima           rr  Brasil  \n",
              "3           Roraima           rr  Brasil  \n",
              "4           Roraima           rr  Brasil  \n",
              "..              ...          ...     ...  \n",
              "493  Rio de Janeiro           rj  Brasil  \n",
              "494  Rio de Janeiro           rj  Brasil  \n",
              "495  Rio de Janeiro           rj  Brasil  \n",
              "496  Rio de Janeiro           rj  Brasil  \n",
              "497  Rio de Janeiro           rj  Brasil  \n",
              "\n",
              "[498 rows x 9 columns]"
            ],
            "text/html": [
              "\n",
              "  <div id=\"df-56e8b912-aefa-4eff-b294-ae0b20334a7f\">\n",
              "    <div class=\"colab-df-container\">\n",
              "      <div>\n",
              "<style scoped>\n",
              "    .dataframe tbody tr th:only-of-type {\n",
              "        vertical-align: middle;\n",
              "    }\n",
              "\n",
              "    .dataframe tbody tr th {\n",
              "        vertical-align: top;\n",
              "    }\n",
              "\n",
              "    .dataframe thead th {\n",
              "        text-align: right;\n",
              "    }\n",
              "</style>\n",
              "<table border=\"1\" class=\"dataframe\">\n",
              "  <thead>\n",
              "    <tr style=\"text-align: right;\">\n",
              "      <th></th>\n",
              "      <th>id_cliente</th>\n",
              "      <th>peso</th>\n",
              "      <th>colesterol</th>\n",
              "      <th>genero</th>\n",
              "      <th>id_estado</th>\n",
              "      <th>idade</th>\n",
              "      <th>estado</th>\n",
              "      <th>sigla_estado</th>\n",
              "      <th>pais</th>\n",
              "    </tr>\n",
              "  </thead>\n",
              "  <tbody>\n",
              "    <tr>\n",
              "      <th>0</th>\n",
              "      <td>1</td>\n",
              "      <td>102.0</td>\n",
              "      <td>111</td>\n",
              "      <td>Masculino</td>\n",
              "      <td>23</td>\n",
              "      <td>17</td>\n",
              "      <td>Roraima</td>\n",
              "      <td>rr</td>\n",
              "      <td>Brasil</td>\n",
              "    </tr>\n",
              "    <tr>\n",
              "      <th>1</th>\n",
              "      <td>54</td>\n",
              "      <td>149.0</td>\n",
              "      <td>183</td>\n",
              "      <td>Masculino</td>\n",
              "      <td>23</td>\n",
              "      <td>48</td>\n",
              "      <td>Roraima</td>\n",
              "      <td>rr</td>\n",
              "      <td>Brasil</td>\n",
              "    </tr>\n",
              "    <tr>\n",
              "      <th>2</th>\n",
              "      <td>61</td>\n",
              "      <td>113.0</td>\n",
              "      <td>129</td>\n",
              "      <td>Feminino</td>\n",
              "      <td>23</td>\n",
              "      <td>70</td>\n",
              "      <td>Roraima</td>\n",
              "      <td>rr</td>\n",
              "      <td>Brasil</td>\n",
              "    </tr>\n",
              "    <tr>\n",
              "      <th>3</th>\n",
              "      <td>154</td>\n",
              "      <td>134.0</td>\n",
              "      <td>162</td>\n",
              "      <td>Feminino</td>\n",
              "      <td>23</td>\n",
              "      <td>26</td>\n",
              "      <td>Roraima</td>\n",
              "      <td>rr</td>\n",
              "      <td>Brasil</td>\n",
              "    </tr>\n",
              "    <tr>\n",
              "      <th>4</th>\n",
              "      <td>164</td>\n",
              "      <td>133.0</td>\n",
              "      <td>155</td>\n",
              "      <td>Feminino</td>\n",
              "      <td>23</td>\n",
              "      <td>51</td>\n",
              "      <td>Roraima</td>\n",
              "      <td>rr</td>\n",
              "      <td>Brasil</td>\n",
              "    </tr>\n",
              "    <tr>\n",
              "      <th>...</th>\n",
              "      <td>...</td>\n",
              "      <td>...</td>\n",
              "      <td>...</td>\n",
              "      <td>...</td>\n",
              "      <td>...</td>\n",
              "      <td>...</td>\n",
              "      <td>...</td>\n",
              "      <td>...</td>\n",
              "      <td>...</td>\n",
              "    </tr>\n",
              "    <tr>\n",
              "      <th>493</th>\n",
              "      <td>452</td>\n",
              "      <td>117.0</td>\n",
              "      <td>138</td>\n",
              "      <td>Feminino</td>\n",
              "      <td>19</td>\n",
              "      <td>61</td>\n",
              "      <td>Rio de Janeiro</td>\n",
              "      <td>rj</td>\n",
              "      <td>Brasil</td>\n",
              "    </tr>\n",
              "    <tr>\n",
              "      <th>494</th>\n",
              "      <td>454</td>\n",
              "      <td>106.0</td>\n",
              "      <td>115</td>\n",
              "      <td>Masculino</td>\n",
              "      <td>19</td>\n",
              "      <td>70</td>\n",
              "      <td>Rio de Janeiro</td>\n",
              "      <td>rj</td>\n",
              "      <td>Brasil</td>\n",
              "    </tr>\n",
              "    <tr>\n",
              "      <th>495</th>\n",
              "      <td>510</td>\n",
              "      <td>110.0</td>\n",
              "      <td>120</td>\n",
              "      <td>Feminino</td>\n",
              "      <td>19</td>\n",
              "      <td>48</td>\n",
              "      <td>Rio de Janeiro</td>\n",
              "      <td>rj</td>\n",
              "      <td>Brasil</td>\n",
              "    </tr>\n",
              "    <tr>\n",
              "      <th>496</th>\n",
              "      <td>516</td>\n",
              "      <td>166.0</td>\n",
              "      <td>200</td>\n",
              "      <td>Feminino</td>\n",
              "      <td>19</td>\n",
              "      <td>47</td>\n",
              "      <td>Rio de Janeiro</td>\n",
              "      <td>rj</td>\n",
              "      <td>Brasil</td>\n",
              "    </tr>\n",
              "    <tr>\n",
              "      <th>497</th>\n",
              "      <td>523</td>\n",
              "      <td>103.0</td>\n",
              "      <td>110</td>\n",
              "      <td>Masculino</td>\n",
              "      <td>19</td>\n",
              "      <td>26</td>\n",
              "      <td>Rio de Janeiro</td>\n",
              "      <td>rj</td>\n",
              "      <td>Brasil</td>\n",
              "    </tr>\n",
              "  </tbody>\n",
              "</table>\n",
              "<p>498 rows × 9 columns</p>\n",
              "</div>\n",
              "      <button class=\"colab-df-convert\" onclick=\"convertToInteractive('df-56e8b912-aefa-4eff-b294-ae0b20334a7f')\"\n",
              "              title=\"Convert this dataframe to an interactive table.\"\n",
              "              style=\"display:none;\">\n",
              "        \n",
              "  <svg xmlns=\"http://www.w3.org/2000/svg\" height=\"24px\"viewBox=\"0 0 24 24\"\n",
              "       width=\"24px\">\n",
              "    <path d=\"M0 0h24v24H0V0z\" fill=\"none\"/>\n",
              "    <path d=\"M18.56 5.44l.94 2.06.94-2.06 2.06-.94-2.06-.94-.94-2.06-.94 2.06-2.06.94zm-11 1L8.5 8.5l.94-2.06 2.06-.94-2.06-.94L8.5 2.5l-.94 2.06-2.06.94zm10 10l.94 2.06.94-2.06 2.06-.94-2.06-.94-.94-2.06-.94 2.06-2.06.94z\"/><path d=\"M17.41 7.96l-1.37-1.37c-.4-.4-.92-.59-1.43-.59-.52 0-1.04.2-1.43.59L10.3 9.45l-7.72 7.72c-.78.78-.78 2.05 0 2.83L4 21.41c.39.39.9.59 1.41.59.51 0 1.02-.2 1.41-.59l7.78-7.78 2.81-2.81c.8-.78.8-2.07 0-2.86zM5.41 20L4 18.59l7.72-7.72 1.47 1.35L5.41 20z\"/>\n",
              "  </svg>\n",
              "      </button>\n",
              "      \n",
              "  <style>\n",
              "    .colab-df-container {\n",
              "      display:flex;\n",
              "      flex-wrap:wrap;\n",
              "      gap: 12px;\n",
              "    }\n",
              "\n",
              "    .colab-df-convert {\n",
              "      background-color: #E8F0FE;\n",
              "      border: none;\n",
              "      border-radius: 50%;\n",
              "      cursor: pointer;\n",
              "      display: none;\n",
              "      fill: #1967D2;\n",
              "      height: 32px;\n",
              "      padding: 0 0 0 0;\n",
              "      width: 32px;\n",
              "    }\n",
              "\n",
              "    .colab-df-convert:hover {\n",
              "      background-color: #E2EBFA;\n",
              "      box-shadow: 0px 1px 2px rgba(60, 64, 67, 0.3), 0px 1px 3px 1px rgba(60, 64, 67, 0.15);\n",
              "      fill: #174EA6;\n",
              "    }\n",
              "\n",
              "    [theme=dark] .colab-df-convert {\n",
              "      background-color: #3B4455;\n",
              "      fill: #D2E3FC;\n",
              "    }\n",
              "\n",
              "    [theme=dark] .colab-df-convert:hover {\n",
              "      background-color: #434B5C;\n",
              "      box-shadow: 0px 1px 3px 1px rgba(0, 0, 0, 0.15);\n",
              "      filter: drop-shadow(0px 1px 2px rgba(0, 0, 0, 0.3));\n",
              "      fill: #FFFFFF;\n",
              "    }\n",
              "  </style>\n",
              "\n",
              "      <script>\n",
              "        const buttonEl =\n",
              "          document.querySelector('#df-56e8b912-aefa-4eff-b294-ae0b20334a7f button.colab-df-convert');\n",
              "        buttonEl.style.display =\n",
              "          google.colab.kernel.accessAllowed ? 'block' : 'none';\n",
              "\n",
              "        async function convertToInteractive(key) {\n",
              "          const element = document.querySelector('#df-56e8b912-aefa-4eff-b294-ae0b20334a7f');\n",
              "          const dataTable =\n",
              "            await google.colab.kernel.invokeFunction('convertToInteractive',\n",
              "                                                     [key], {});\n",
              "          if (!dataTable) return;\n",
              "\n",
              "          const docLinkHtml = 'Like what you see? Visit the ' +\n",
              "            '<a target=\"_blank\" href=https://colab.research.google.com/notebooks/data_table.ipynb>data table notebook</a>'\n",
              "            + ' to learn more about interactive tables.';\n",
              "          element.innerHTML = '';\n",
              "          dataTable['output_type'] = 'display_data';\n",
              "          await google.colab.output.renderOutput(dataTable, element);\n",
              "          const docLink = document.createElement('div');\n",
              "          docLink.innerHTML = docLinkHtml;\n",
              "          element.appendChild(docLink);\n",
              "        }\n",
              "      </script>\n",
              "    </div>\n",
              "  </div>\n",
              "  "
            ]
          },
          "metadata": {},
          "execution_count": 213
        }
      ]
    },
    {
      "cell_type": "code",
      "source": [
        "qtd_registros_descartados = len(df_completo) - len(df_completo_tratado)\n",
        "qtd_registros_descartados"
      ],
      "metadata": {
        "colab": {
          "base_uri": "https://localhost:8080/"
        },
        "id": "du3iTSdzsxQj",
        "outputId": "cbd59027-305a-4178-bb9f-7b1a190c66d8"
      },
      "execution_count": 214,
      "outputs": [
        {
          "output_type": "execute_result",
          "data": {
            "text/plain": [
              "49"
            ]
          },
          "metadata": {},
          "execution_count": 214
        }
      ]
    },
    {
      "cell_type": "markdown",
      "source": [
        "##Consolidado DataFrame com as variáveis que serão analisadas na clusterização"
      ],
      "metadata": {
        "id": "yWvR5TyPy_1W"
      }
    },
    {
      "cell_type": "code",
      "source": [
        "dados_clientes = pd.DataFrame(df_completo_tratado[['id_cliente', 'peso', 'colesterol']])\n",
        "dados_clientes"
      ],
      "metadata": {
        "colab": {
          "base_uri": "https://localhost:8080/",
          "height": 424
        },
        "id": "tC7SbDYQzLus",
        "outputId": "d59be121-c14d-412c-dc81-949e485983bc"
      },
      "execution_count": 215,
      "outputs": [
        {
          "output_type": "execute_result",
          "data": {
            "text/plain": [
              "     id_cliente   peso  colesterol\n",
              "0             1  102.0         111\n",
              "1            54  149.0         183\n",
              "2            61  113.0         129\n",
              "3           154  134.0         162\n",
              "4           164  133.0         155\n",
              "..          ...    ...         ...\n",
              "493         452  117.0         138\n",
              "494         454  106.0         115\n",
              "495         510  110.0         120\n",
              "496         516  166.0         200\n",
              "497         523  103.0         110\n",
              "\n",
              "[498 rows x 3 columns]"
            ],
            "text/html": [
              "\n",
              "  <div id=\"df-2058a4fb-b3fd-4a58-b4ed-bfa4d6c26159\">\n",
              "    <div class=\"colab-df-container\">\n",
              "      <div>\n",
              "<style scoped>\n",
              "    .dataframe tbody tr th:only-of-type {\n",
              "        vertical-align: middle;\n",
              "    }\n",
              "\n",
              "    .dataframe tbody tr th {\n",
              "        vertical-align: top;\n",
              "    }\n",
              "\n",
              "    .dataframe thead th {\n",
              "        text-align: right;\n",
              "    }\n",
              "</style>\n",
              "<table border=\"1\" class=\"dataframe\">\n",
              "  <thead>\n",
              "    <tr style=\"text-align: right;\">\n",
              "      <th></th>\n",
              "      <th>id_cliente</th>\n",
              "      <th>peso</th>\n",
              "      <th>colesterol</th>\n",
              "    </tr>\n",
              "  </thead>\n",
              "  <tbody>\n",
              "    <tr>\n",
              "      <th>0</th>\n",
              "      <td>1</td>\n",
              "      <td>102.0</td>\n",
              "      <td>111</td>\n",
              "    </tr>\n",
              "    <tr>\n",
              "      <th>1</th>\n",
              "      <td>54</td>\n",
              "      <td>149.0</td>\n",
              "      <td>183</td>\n",
              "    </tr>\n",
              "    <tr>\n",
              "      <th>2</th>\n",
              "      <td>61</td>\n",
              "      <td>113.0</td>\n",
              "      <td>129</td>\n",
              "    </tr>\n",
              "    <tr>\n",
              "      <th>3</th>\n",
              "      <td>154</td>\n",
              "      <td>134.0</td>\n",
              "      <td>162</td>\n",
              "    </tr>\n",
              "    <tr>\n",
              "      <th>4</th>\n",
              "      <td>164</td>\n",
              "      <td>133.0</td>\n",
              "      <td>155</td>\n",
              "    </tr>\n",
              "    <tr>\n",
              "      <th>...</th>\n",
              "      <td>...</td>\n",
              "      <td>...</td>\n",
              "      <td>...</td>\n",
              "    </tr>\n",
              "    <tr>\n",
              "      <th>493</th>\n",
              "      <td>452</td>\n",
              "      <td>117.0</td>\n",
              "      <td>138</td>\n",
              "    </tr>\n",
              "    <tr>\n",
              "      <th>494</th>\n",
              "      <td>454</td>\n",
              "      <td>106.0</td>\n",
              "      <td>115</td>\n",
              "    </tr>\n",
              "    <tr>\n",
              "      <th>495</th>\n",
              "      <td>510</td>\n",
              "      <td>110.0</td>\n",
              "      <td>120</td>\n",
              "    </tr>\n",
              "    <tr>\n",
              "      <th>496</th>\n",
              "      <td>516</td>\n",
              "      <td>166.0</td>\n",
              "      <td>200</td>\n",
              "    </tr>\n",
              "    <tr>\n",
              "      <th>497</th>\n",
              "      <td>523</td>\n",
              "      <td>103.0</td>\n",
              "      <td>110</td>\n",
              "    </tr>\n",
              "  </tbody>\n",
              "</table>\n",
              "<p>498 rows × 3 columns</p>\n",
              "</div>\n",
              "      <button class=\"colab-df-convert\" onclick=\"convertToInteractive('df-2058a4fb-b3fd-4a58-b4ed-bfa4d6c26159')\"\n",
              "              title=\"Convert this dataframe to an interactive table.\"\n",
              "              style=\"display:none;\">\n",
              "        \n",
              "  <svg xmlns=\"http://www.w3.org/2000/svg\" height=\"24px\"viewBox=\"0 0 24 24\"\n",
              "       width=\"24px\">\n",
              "    <path d=\"M0 0h24v24H0V0z\" fill=\"none\"/>\n",
              "    <path d=\"M18.56 5.44l.94 2.06.94-2.06 2.06-.94-2.06-.94-.94-2.06-.94 2.06-2.06.94zm-11 1L8.5 8.5l.94-2.06 2.06-.94-2.06-.94L8.5 2.5l-.94 2.06-2.06.94zm10 10l.94 2.06.94-2.06 2.06-.94-2.06-.94-.94-2.06-.94 2.06-2.06.94z\"/><path d=\"M17.41 7.96l-1.37-1.37c-.4-.4-.92-.59-1.43-.59-.52 0-1.04.2-1.43.59L10.3 9.45l-7.72 7.72c-.78.78-.78 2.05 0 2.83L4 21.41c.39.39.9.59 1.41.59.51 0 1.02-.2 1.41-.59l7.78-7.78 2.81-2.81c.8-.78.8-2.07 0-2.86zM5.41 20L4 18.59l7.72-7.72 1.47 1.35L5.41 20z\"/>\n",
              "  </svg>\n",
              "      </button>\n",
              "      \n",
              "  <style>\n",
              "    .colab-df-container {\n",
              "      display:flex;\n",
              "      flex-wrap:wrap;\n",
              "      gap: 12px;\n",
              "    }\n",
              "\n",
              "    .colab-df-convert {\n",
              "      background-color: #E8F0FE;\n",
              "      border: none;\n",
              "      border-radius: 50%;\n",
              "      cursor: pointer;\n",
              "      display: none;\n",
              "      fill: #1967D2;\n",
              "      height: 32px;\n",
              "      padding: 0 0 0 0;\n",
              "      width: 32px;\n",
              "    }\n",
              "\n",
              "    .colab-df-convert:hover {\n",
              "      background-color: #E2EBFA;\n",
              "      box-shadow: 0px 1px 2px rgba(60, 64, 67, 0.3), 0px 1px 3px 1px rgba(60, 64, 67, 0.15);\n",
              "      fill: #174EA6;\n",
              "    }\n",
              "\n",
              "    [theme=dark] .colab-df-convert {\n",
              "      background-color: #3B4455;\n",
              "      fill: #D2E3FC;\n",
              "    }\n",
              "\n",
              "    [theme=dark] .colab-df-convert:hover {\n",
              "      background-color: #434B5C;\n",
              "      box-shadow: 0px 1px 3px 1px rgba(0, 0, 0, 0.15);\n",
              "      filter: drop-shadow(0px 1px 2px rgba(0, 0, 0, 0.3));\n",
              "      fill: #FFFFFF;\n",
              "    }\n",
              "  </style>\n",
              "\n",
              "      <script>\n",
              "        const buttonEl =\n",
              "          document.querySelector('#df-2058a4fb-b3fd-4a58-b4ed-bfa4d6c26159 button.colab-df-convert');\n",
              "        buttonEl.style.display =\n",
              "          google.colab.kernel.accessAllowed ? 'block' : 'none';\n",
              "\n",
              "        async function convertToInteractive(key) {\n",
              "          const element = document.querySelector('#df-2058a4fb-b3fd-4a58-b4ed-bfa4d6c26159');\n",
              "          const dataTable =\n",
              "            await google.colab.kernel.invokeFunction('convertToInteractive',\n",
              "                                                     [key], {});\n",
              "          if (!dataTable) return;\n",
              "\n",
              "          const docLinkHtml = 'Like what you see? Visit the ' +\n",
              "            '<a target=\"_blank\" href=https://colab.research.google.com/notebooks/data_table.ipynb>data table notebook</a>'\n",
              "            + ' to learn more about interactive tables.';\n",
              "          element.innerHTML = '';\n",
              "          dataTable['output_type'] = 'display_data';\n",
              "          await google.colab.output.renderOutput(dataTable, element);\n",
              "          const docLink = document.createElement('div');\n",
              "          docLink.innerHTML = docLinkHtml;\n",
              "          element.appendChild(docLink);\n",
              "        }\n",
              "      </script>\n",
              "    </div>\n",
              "  </div>\n",
              "  "
            ]
          },
          "metadata": {},
          "execution_count": 215
        }
      ]
    },
    {
      "cell_type": "markdown",
      "source": [
        "#Pergunta 1) Analisando a base de idades de clientes, qual é o desvio padrão das idades?"
      ],
      "metadata": {
        "id": "RxlmzWzEtwdP"
      }
    },
    {
      "cell_type": "code",
      "source": [
        "df_idade_clientes.idade.std()"
      ],
      "metadata": {
        "colab": {
          "base_uri": "https://localhost:8080/"
        },
        "id": "JVz84Su9t09N",
        "outputId": "d27bd74e-2fb0-4135-efea-6384beaae414"
      },
      "execution_count": 216,
      "outputs": [
        {
          "output_type": "execute_result",
          "data": {
            "text/plain": [
              "15.160209226877225"
            ]
          },
          "metadata": {},
          "execution_count": 216
        }
      ]
    },
    {
      "cell_type": "markdown",
      "source": [
        "#Pergunta 2) Quantos dados ausentes estão presentes nos três datasets? (somatório de dados ausentes se houver)"
      ],
      "metadata": {
        "id": "vi9dgiqyuRAJ"
      }
    },
    {
      "cell_type": "code",
      "source": [
        "df_clientes.isnull().sum().sum() + df_idade_clientes.isnull().sum().sum() + df_estados.isnull().sum().sum()"
      ],
      "metadata": {
        "colab": {
          "base_uri": "https://localhost:8080/"
        },
        "id": "nj48ntP0uG8B",
        "outputId": "638b05e0-a6ea-425d-e39b-9eadd45c34db"
      },
      "execution_count": 217,
      "outputs": [
        {
          "output_type": "execute_result",
          "data": {
            "text/plain": [
              "7"
            ]
          },
          "metadata": {},
          "execution_count": 217
        }
      ]
    },
    {
      "cell_type": "markdown",
      "source": [
        "#Pergunta 3) Qual comando abaixo realiza a correção de dados ausentes e aplica em um dataset?"
      ],
      "metadata": {
        "id": "ZvOQN8oYvBzI"
      }
    },
    {
      "cell_type": "markdown",
      "source": [
        "Pergunta não relacionada ao conjunto de dados."
      ],
      "metadata": {
        "id": "1QGctDiLvPPT"
      }
    },
    {
      "cell_type": "markdown",
      "source": [
        "#Pergunta 4) Crie um histograma baseado na idade dos clientes e escolha a melhor alternativa que o representa. (utilize 30 barras na visualização ** bins=30)"
      ],
      "metadata": {
        "id": "uE7unAKhvUtP"
      }
    },
    {
      "cell_type": "code",
      "source": [
        "import matplotlib.pyplot as plt\n",
        "df_completo_tratado.hist(column = 'idade', figsize=(15,7), bins=30)"
      ],
      "metadata": {
        "colab": {
          "base_uri": "https://localhost:8080/",
          "height": 479
        },
        "id": "p2aeG6f6uprN",
        "outputId": "f9155d1c-2430-4b6b-fefd-3e3bf0cf7c32"
      },
      "execution_count": 218,
      "outputs": [
        {
          "output_type": "execute_result",
          "data": {
            "text/plain": [
              "array([[<matplotlib.axes._subplots.AxesSubplot object at 0x7fb4cd41c640>]],\n",
              "      dtype=object)"
            ]
          },
          "metadata": {},
          "execution_count": 218
        },
        {
          "output_type": "display_data",
          "data": {
            "text/plain": [
              "<Figure size 1080x504 with 1 Axes>"
            ],
            "image/png": "[encoded data removed]"
          },
          "metadata": {
            "needs_background": "light"
          }
        }
      ]
    },
    {
      "cell_type": "markdown",
      "source": [
        "#Pergunta 5) Qual o valor do WCSS para o primeiro cluster? (utilize random_state=0)"
      ],
      "metadata": {
        "id": "hSx3YThkw6v8"
      }
    },
    {
      "cell_type": "markdown",
      "source": [
        "Aqui eu percebo um pergunta que me confundi. WCSS não seria uma métrica para avaliar um determinado agrupamento com uma quantidade determinada quantidade de clusters? Dentre os clusters do agrupamento, quem seria o primeiro deles?\n",
        "\n",
        "Com base no que pude interpretar da aula gravada, decido calcular o Within-Cluster Sum of Square para o agrupamento de dados em um só cluster:"
      ],
      "metadata": {
        "id": "QQWtZbmDxC48"
      }
    },
    {
      "cell_type": "code",
      "source": [
        "from sklearn.cluster import KMeans\n",
        "\n",
        "k = 1\n",
        "\n",
        "kmeans = KMeans(n_clusters = k, random_state=0)\n",
        "kmeans.fit(X=dados_clientes[['peso', 'colesterol']])\n",
        "kmeans.inertia_"
      ],
      "metadata": {
        "colab": {
          "base_uri": "https://localhost:8080/"
        },
        "id": "B-PGF6qYwBWL",
        "outputId": "6d3c51da-4dc0-4af4-b529-150afc5d3a3f"
      },
      "execution_count": 219,
      "outputs": [
        {
          "output_type": "execute_result",
          "data": {
            "text/plain": [
              "1248240.6686746983"
            ]
          },
          "metadata": {},
          "execution_count": 219
        }
      ]
    },
    {
      "cell_type": "markdown",
      "source": [
        "#Pergunta 6) Qual o valor do WCSS para o número de clusters = 4? (utilize random_state=0)"
      ],
      "metadata": {
        "id": "W48ZqVR30jK6"
      }
    },
    {
      "cell_type": "markdown",
      "source": [
        "Para o número de 4 clusters, ou seja, 4 centróides de agrupamento para o conjunto de dados, k = 4."
      ],
      "metadata": {
        "id": "NVH4Q-zb0u0g"
      }
    },
    {
      "cell_type": "code",
      "source": [
        "from sklearn.cluster import KMeans\n",
        "\n",
        "k = 4\n",
        "\n",
        "kmeans = KMeans(n_clusters = k, random_state=0)\n",
        "kmeans.fit(X=dados_clientes[['peso', 'colesterol']])\n",
        "kmeans.inertia_"
      ],
      "metadata": {
        "colab": {
          "base_uri": "https://localhost:8080/"
        },
        "id": "UPJUJjPn0uF0",
        "outputId": "fc92ce6c-b150-42f1-b52d-f7cfd778bce5"
      },
      "execution_count": 220,
      "outputs": [
        {
          "output_type": "execute_result",
          "data": {
            "text/plain": [
              "73826.33539515291"
            ]
          },
          "metadata": {},
          "execution_count": 220
        }
      ]
    },
    {
      "cell_type": "markdown",
      "source": [
        "#Pergunta 7) São exemplos de aprendizado supervisionado:"
      ],
      "metadata": {
        "id": "WCaRpHLu1IWI"
      }
    },
    {
      "cell_type": "markdown",
      "source": [
        "Pergunta não relacionada ao conjunto de dados."
      ],
      "metadata": {
        "id": "4Ks_Z_n71R-Z"
      }
    },
    {
      "cell_type": "markdown",
      "source": [
        "#Pergunta 8) O ETL são ferramentas responsáveis pela:"
      ],
      "metadata": {
        "id": "x4Q2xyJo1bZ-"
      }
    },
    {
      "cell_type": "markdown",
      "source": [
        "Pergunta não relacionada ao conjunto de dados."
      ],
      "metadata": {
        "id": "oODbPlVU1h5w"
      }
    },
    {
      "cell_type": "markdown",
      "source": [
        "#Pergunta 9) Qual o valor do centroide para o grupo de alto risco? Leve em consideração as variáveis na seguinte sequência: peso e colesterol."
      ],
      "metadata": {
        "id": "ceyPosQA1j68"
      }
    },
    {
      "cell_type": "markdown",
      "source": [
        "Conforme indicado no enunciado do Desafio, deve-se adotar quatro grandes grupos, ou seja, 4 clusters com as seguintes definições:\n",
        "\n",
        "1. Alto Risco. \n",
        "2. Risco Moderado alto.\n",
        "3. Risco Moderado baixo.\n",
        "4. Baixo risco."
      ],
      "metadata": {
        "id": "uBMOVlfl2Ot2"
      }
    },
    {
      "cell_type": "code",
      "source": [
        "k = 4\n",
        "\n",
        "kmeans_clientes = KMeans(n_clusters=k, random_state=0)\n",
        "dados_clientes['cluster'] = kmeans_clientes.fit_predict(dados_clientes[['peso', 'colesterol']])\n",
        "\n",
        "centroides_clusters = kmeans_clientes.cluster_centers_\n",
        "\n",
        "import plotly.express as px\n",
        "import plotly.offline as py\n",
        "import plotly.graph_objects as go\n",
        "\n",
        "grafico = px.scatter(x = dados_clientes['peso'],\n",
        "                     y = dados_clientes['colesterol'],\n",
        "                     color = dados_clientes['cluster'])\n",
        "\n",
        "grafico_centroide = px.scatter(x=centroides_clusters[:,0],\n",
        "                               y=centroides_clusters[:,1],\n",
        "                               size = [7,7,7,7])\n",
        "\n",
        "grafico_final = go.Figure(data = grafico.data + grafico_centroide.data)\n",
        "grafico_final.show()"
      ],
      "metadata": {
        "colab": {
          "base_uri": "https://localhost:8080/",
          "height": 542
        },
        "id": "Iz69vp1P1wTZ",
        "outputId": "9cb6a138-c7c6-4fd9-dbc8-6de40f48d4e5"
      },
      "execution_count": 221,
      "outputs": [
        {
          "output_type": "display_data",
          "data": {
            "text/html": [
              "<html>\n",
              "<head><meta charset=\"utf-8\" /></head>\n",
              "<body>\n",
              "    <div>            <script src=\"https://cdnjs.cloudflare.com/ajax/libs/mathjax/2.7.5/MathJax.js?config=TeX-AMS-MML_SVG\"></script><script type=\"text/javascript\">if (window.MathJax) {MathJax.Hub.Config({SVG: {font: \"STIX-Web\"}});}</script>                <script type=\"text/javascript\">window.PlotlyConfig = {MathJaxConfig: 'local'};</script>\n",
              "        <script src=\"https://cdn.plot.ly/plotly-2.8.3.min.js\"></script>                <div id=\"4e96d719-827e-419c-ad2b-9d8a962ec9b2\" class=\"plotly-graph-div\" style=\"height:525px; width:100%;\"></div>            <script type=\"text/javascript\">                                    window.PLOTLYENV=window.PLOTLYENV || {};                                    if (document.getElementById(\"4e96d719-827e-419c-ad2b-9d8a962ec9b2\")) {                    Plotly.newPlot(                        \"4e96d719-827e-419c-ad2b-9d8a962ec9b2\",                        [{\"hovertemplate\":\"x=%{x}<br>y=%{y}<br>color=%{marker.color}<extra></extra>\",\"legendgroup\":\"\",\"marker\":{\"color\":[1,0,1,3,3,1,0,3,3,3,2,2,1,0,2,3,3,1,0,2,3,0,2,1,2,2,2,1,2,2,3,2,3,1,1,1,2,1,0,1,3,1,0,3,1,1,1,2,2,3,2,1,2,2,1,3,2,1,0,0,1,1,0,2,3,1,3,3,3,3,1,0,2,2,2,3,0,3,3,2,3,0,3,2,2,3,0,1,2,1,2,3,2,0,0,0,3,2,3,1,0,0,3,0,2,2,3,2,1,1,0,0,2,2,1,0,3,1,3,1,0,1,0,2,1,2,1,2,2,2,1,2,2,2,3,1,2,2,0,0,1,1,1,0,3,2,0,1,1,2,3,0,2,3,0,1,1,1,1,3,3,3,1,2,3,0,2,2,2,2,1,1,2,0,3,2,0,1,0,2,0,3,0,0,2,0,0,1,1,2,0,2,3,2,2,2,2,2,3,2,3,1,3,1,0,2,1,0,3,1,3,2,0,2,2,2,2,3,3,0,2,3,1,0,0,3,1,1,2,2,3,0,0,3,3,0,0,2,3,1,2,1,1,2,3,2,1,3,3,1,0,3,1,2,1,3,0,0,3,1,2,1,0,3,2,2,0,2,3,2,2,2,1,0,2,1,2,0,2,0,3,1,3,1,2,3,1,3,3,3,1,2,2,2,2,0,2,2,2,3,2,3,1,0,2,0,2,3,2,3,1,1,2,3,3,1,0,3,1,1,2,2,1,2,3,0,1,1,1,0,2,0,2,0,3,1,1,2,0,3,2,2,2,2,2,2,2,3,3,2,1,0,1,1,2,2,2,0,2,1,3,1,1,1,0,3,1,0,1,2,3,2,3,0,2,1,0,0,2,3,2,3,3,1,1,0,3,2,0,3,1,3,2,1,3,1,2,3,0,0,0,0,1,3,0,1,3,1,1,0,2,0,3,1,0,3,2,2,2,1,0,3,3,0,2,3,0,3,2,1,3,3,1,3,0,1,1,1,1,3,0,0,0,3,3,0,3,1,0,3,1,1,2,1,3,1,1,1,3,2,1,0,1,0,3,3,2,3,2,0,3,0,0,0,0,0,0,1,3,1,2,2,3,3,0,1,3,1,3,2,2,2,0,3,1,1,0,1],\"coloraxis\":\"coloraxis\",\"symbol\":\"circle\"},\"mode\":\"markers\",\"name\":\"\",\"orientation\":\"v\",\"showlegend\":false,\"x\":[102.0,149.0,113.0,134.0,133.0,115.0,146.0,125.0,124.0,127.0,183.0,199.0,115.0,151.0,200.0,120.0,125.0,115.0,156.0,183.0,128.0,157.0,170.0,113.0,192.0,183.0,173.0,109.0,176.0,195.0,132.0,168.0,119.0,110.0,117.0,100.0,200.0,105.0,162.0,115.0,117.0,105.0,164.0,119.0,113.0,101.0,105.0,203.0,186.0,120.0,200.0,111.0,188.0,190.0,99.0,129.0,186.0,111.0,151.0,151.0,104.0,113.0,154.0,185.0,130.0,114.0,130.0,115.0,121.0,126.0,100.0,159.0,180.0,197.0,185.0,119.0,158.0,140.0,138.0,182.0,132.0,167.0,122.0,198.0,169.0,124.0,150.0,96.0,195.0,115.0,191.0,133.0,191.0,140.0,154.0,149.0,141.0,192.0,134.0,97.0,148.0,145.0,125.0,156.0,181.0,181.0,120.0,176.0,102.0,110.0,153.0,141.0,190.0,191.0,100.0,150.0,137.0,103.0,133.0,106.0,158.0,98.0,145.0,196.0,114.0,192.0,101.0,181.0,189.0,171.0,103.0,186.0,188.0,178.0,139.0,102.0,176.0,203.0,141.0,141.0,97.0,100.0,102.0,153.0,137.0,183.0,142.0,118.0,115.0,184.0,137.0,148.0,171.0,119.0,157.0,107.0,104.0,109.0,95.0,138.0,128.0,121.0,103.0,180.0,124.0,156.0,185.0,191.0,180.0,197.0,109.0,104.0,171.0,151.0,126.0,188.0,158.0,96.0,152.0,195.0,166.0,122.0,142.0,154.0,198.0,154.0,154.0,105.0,107.0,203.0,145.0,180.0,128.0,203.0,178.0,174.0,197.0,168.0,129.0,186.0,123.0,100.0,128.0,113.0,169.0,176.0,104.0,146.0,128.0,108.0,134.0,180.0,157.0,194.0,189.0,168.0,193.0,123.0,124.0,156.0,200.0,117.0,108.0,158.0,150.0,132.0,100.0,108.0,199.0,172.0,121.0,155.0,150.0,136.0,133.0,153.0,144.0,185.0,120.0,105.0,186.0,100.0,107.0,191.0,132.0,182.0,113.0,129.0,116.0,111.0,141.0,131.0,107.0,183.0,100.0,120.0,158.0,154.0,116.0,100.0,201.0,111.0,149.0,134.0,190.0,196.0,159.0,199.0,130.0,174.0,192.0,175.0,111.0,146.0,181.0,101.0,177.0,154.0,184.0,167.0,126.0,98.0,115.0,111.0,176.0,127.0,114.0,123.0,140.0,137.0,113.0,179.0,167.0,171.0,184.0,161.0,173.0,184.0,171.0,117.0,180.0,121.0,101.0,151.0,172.0,152.0,183.0,129.0,180.0,124.0,103.0,116.0,187.0,135.0,128.0,110.0,160.0,140.0,109.0,98.0,192.0,179.0,118.0,179.0,119.0,142.0,115.0,116.0,108.0,150.0,187.0,146.0,179.0,150.0,142.0,116.0,104.0,171.0,150.0,134.0,169.0,182.0,194.0,177.0,172.0,175.0,180.0,131.0,138.0,190.0,106.0,148.0,97.0,114.0,181.0,187.0,180.0,153.0,170.0,110.0,123.0,107.0,96.0,101.0,158.0,127.0,100.0,147.0,109.0,171.0,132.0,181.0,117.0,149.0,185.0,97.0,152.0,168.0,168.0,126.0,201.0,127.0,116.0,117.0,104.0,154.0,134.0,172.0,157.0,137.0,106.0,135.0,188.0,103.0,116.0,99.0,173.0,127.0,150.0,151.0,166.0,145.0,102.0,116.0,154.0,106.0,131.0,113.0,118.0,154.0,187.0,141.0,125.0,110.0,160.0,132.0,187.0,188.0,172.0,96.0,149.0,118.0,122.0,145.0,174.0,128.0,155.0,122.0,184.0,107.0,129.0,134.0,110.0,132.0,143.0,112.0,110.0,104.0,103.0,135.0,161.0,148.0,147.0,134.0,119.0,145.0,127.0,118.0,140.0,133.0,113.0,108.0,196.0,112.0,140.0,97.0,107.0,97.0,129.0,203.0,117.0,154.0,112.0,155.0,123.0,126.0,181.0,125.0,182.0,145.0,134.0,144.0,142.0,153.0,152.0,157.0,156.0,108.0,134.0,112.0,196.0,171.0,132.0,119.0,158.0,118.0,128.0,101.0,117.0,188.0,203.0,174.0,168.0,117.0,106.0,110.0,166.0,103.0],\"xaxis\":\"x\",\"y\":[111,183,129,162,155,135,179,148,151,152,214,232,131,190,232,142,149,135,192,218,154,196,208,130,228,213,208,127,212,231,159,211,145,124,133,110,228,113,196,136,139,118,197,141,130,110,116,232,220,143,232,129,220,226,106,157,219,126,183,186,116,124,190,226,158,131,158,138,143,152,107,202,212,224,219,144,189,167,169,221,162,200,143,227,204,152,185,105,222,132,222,164,222,173,187,184,168,224,169,108,176,176,152,195,214,219,138,208,114,124,188,170,222,223,107,180,163,115,158,114,190,105,169,227,136,226,110,222,223,205,113,221,222,213,167,115,209,231,172,172,112,110,116,190,167,212,170,133,134,225,167,174,205,139,194,115,116,125,102,167,156,142,107,213,152,194,221,226,220,232,122,109,211,178,147,224,201,102,189,225,203,146,169,184,227,189,187,116,115,233,174,215,155,234,213,208,225,204,157,221,146,106,151,132,199,211,113,179,156,122,158,216,191,227,223,204,224,147,148,195,233,142,121,195,191,161,110,120,227,205,145,196,178,169,163,189,172,220,139,108,224,110,126,226,166,218,128,162,144,126,174,165,122,219,106,144,196,191,138,102,235,128,183,167,223,228,193,228,158,209,224,214,123,181,214,108,217,190,226,199,154,106,139,130,216,150,133,149,168,166,131,214,204,212,222,201,211,220,204,141,218,146,109,184,210,193,218,155,216,149,116,136,222,170,156,119,202,166,129,107,225,217,135,211,138,175,137,130,123,185,221,177,216,179,168,136,108,205,182,160,204,222,224,214,205,215,219,159,171,222,122,177,104,132,224,225,219,191,204,128,145,121,108,105,198,151,110,180,116,212,159,217,147,183,220,106,195,201,204,149,228,156,141,129,109,192,163,211,194,169,118,166,226,117,139,105,212,159,178,188,199,175,111,139,189,120,162,128,129,185,226,176,150,128,199,166,220,221,207,105,185,140,145,173,214,160,185,144,222,120,157,164,128,163,168,133,127,116,111,170,199,176,172,159,146,171,155,133,173,158,129,127,232,134,168,106,117,104,156,235,134,195,127,191,151,152,216,154,218,176,168,171,172,192,178,194,191,123,158,124,225,211,165,141,193,131,153,112,140,223,228,208,199,138,115,120,200,110],\"yaxis\":\"y\",\"type\":\"scatter\"},{\"hovertemplate\":\"x=%{x}<br>y=%{y}<br>size=%{marker.size}<extra></extra>\",\"legendgroup\":\"\",\"marker\":{\"color\":\"#636efa\",\"size\":[7,7,7,7],\"sizemode\":\"area\",\"sizeref\":0.0175,\"symbol\":\"circle\"},\"mode\":\"markers\",\"name\":\"\",\"orientation\":\"v\",\"showlegend\":false,\"x\":[152.22429906542058,106.84374999999997,184.32394366197178,127.34710743801655],\"xaxis\":\"x\",\"y\":[185.86915887850466,119.42968749999991,218.98591549295764,153.95867768595042],\"yaxis\":\"y\",\"type\":\"scatter\"}],                        {\"template\":{\"data\":{\"bar\":[{\"error_x\":{\"color\":\"#2a3f5f\"},\"error_y\":{\"color\":\"#2a3f5f\"},\"marker\":{\"line\":{\"color\":\"#E5ECF6\",\"width\":0.5},\"pattern\":{\"fillmode\":\"overlay\",\"size\":10,\"solidity\":0.2}},\"type\":\"bar\"}],\"barpolar\":[{\"marker\":{\"line\":{\"color\":\"#E5ECF6\",\"width\":0.5},\"pattern\":{\"fillmode\":\"overlay\",\"size\":10,\"solidity\":0.2}},\"type\":\"barpolar\"}],\"carpet\":[{\"aaxis\":{\"endlinecolor\":\"#2a3f5f\",\"gridcolor\":\"white\",\"linecolor\":\"white\",\"minorgridcolor\":\"white\",\"startlinecolor\":\"#2a3f5f\"},\"baxis\":{\"endlinecolor\":\"#2a3f5f\",\"gridcolor\":\"white\",\"linecolor\":\"white\",\"minorgridcolor\":\"white\",\"startlinecolor\":\"#2a3f5f\"},\"type\":\"carpet\"}],\"choropleth\":[{\"colorbar\":{\"outlinewidth\":0,\"ticks\":\"\"},\"type\":\"choropleth\"}],\"contour\":[{\"colorbar\":{\"outlinewidth\":0,\"ticks\":\"\"},\"colorscale\":[[0.0,\"#0d0887\"],[0.1111111111111111,\"#46039f\"],[0.2222222222222222,\"#7201a8\"],[0.3333333333333333,\"#9c179e\"],[0.4444444444444444,\"#bd3786\"],[0.5555555555555556,\"#d8576b\"],[0.6666666666666666,\"#ed7953\"],[0.7777777777777778,\"#fb9f3a\"],[0.8888888888888888,\"#fdca26\"],[1.0,\"#f0f921\"]],\"type\":\"contour\"}],\"contourcarpet\":[{\"colorbar\":{\"outlinewidth\":0,\"ticks\":\"\"},\"type\":\"contourcarpet\"}],\"heatmap\":[{\"colorbar\":{\"outlinewidth\":0,\"ticks\":\"\"},\"colorscale\":[[0.0,\"#0d0887\"],[0.1111111111111111,\"#46039f\"],[0.2222222222222222,\"#7201a8\"],[0.3333333333333333,\"#9c179e\"],[0.4444444444444444,\"#bd3786\"],[0.5555555555555556,\"#d8576b\"],[0.6666666666666666,\"#ed7953\"],[0.7777777777777778,\"#fb9f3a\"],[0.8888888888888888,\"#fdca26\"],[1.0,\"#f0f921\"]],\"type\":\"heatmap\"}],\"heatmapgl\":[{\"colorbar\":{\"outlinewidth\":0,\"ticks\":\"\"},\"colorscale\":[[0.0,\"#0d0887\"],[0.1111111111111111,\"#46039f\"],[0.2222222222222222,\"#7201a8\"],[0.3333333333333333,\"#9c179e\"],[0.4444444444444444,\"#bd3786\"],[0.5555555555555556,\"#d8576b\"],[0.6666666666666666,\"#ed7953\"],[0.7777777777777778,\"#fb9f3a\"],[0.8888888888888888,\"#fdca26\"],[1.0,\"#f0f921\"]],\"type\":\"heatmapgl\"}],\"histogram\":[{\"marker\":{\"pattern\":{\"fillmode\":\"overlay\",\"size\":10,\"solidity\":0.2}},\"type\":\"histogram\"}],\"histogram2d\":[{\"colorbar\":{\"outlinewidth\":0,\"ticks\":\"\"},\"colorscale\":[[0.0,\"#0d0887\"],[0.1111111111111111,\"#46039f\"],[0.2222222222222222,\"#7201a8\"],[0.3333333333333333,\"#9c179e\"],[0.4444444444444444,\"#bd3786\"],[0.5555555555555556,\"#d8576b\"],[0.6666666666666666,\"#ed7953\"],[0.7777777777777778,\"#fb9f3a\"],[0.8888888888888888,\"#fdca26\"],[1.0,\"#f0f921\"]],\"type\":\"histogram2d\"}],\"histogram2dcontour\":[{\"colorbar\":{\"outlinewidth\":0,\"ticks\":\"\"},\"colorscale\":[[0.0,\"#0d0887\"],[0.1111111111111111,\"#46039f\"],[0.2222222222222222,\"#7201a8\"],[0.3333333333333333,\"#9c179e\"],[0.4444444444444444,\"#bd3786\"],[0.5555555555555556,\"#d8576b\"],[0.6666666666666666,\"#ed7953\"],[0.7777777777777778,\"#fb9f3a\"],[0.8888888888888888,\"#fdca26\"],[1.0,\"#f0f921\"]],\"type\":\"histogram2dcontour\"}],\"mesh3d\":[{\"colorbar\":{\"outlinewidth\":0,\"ticks\":\"\"},\"type\":\"mesh3d\"}],\"parcoords\":[{\"line\":{\"colorbar\":{\"outlinewidth\":0,\"ticks\":\"\"}},\"type\":\"parcoords\"}],\"pie\":[{\"automargin\":true,\"type\":\"pie\"}],\"scatter\":[{\"marker\":{\"colorbar\":{\"outlinewidth\":0,\"ticks\":\"\"}},\"type\":\"scatter\"}],\"scatter3d\":[{\"line\":{\"colorbar\":{\"outlinewidth\":0,\"ticks\":\"\"}},\"marker\":{\"colorbar\":{\"outlinewidth\":0,\"ticks\":\"\"}},\"type\":\"scatter3d\"}],\"scattercarpet\":[{\"marker\":{\"colorbar\":{\"outlinewidth\":0,\"ticks\":\"\"}},\"type\":\"scattercarpet\"}],\"scattergeo\":[{\"marker\":{\"colorbar\":{\"outlinewidth\":0,\"ticks\":\"\"}},\"type\":\"scattergeo\"}],\"scattergl\":[{\"marker\":{\"colorbar\":{\"outlinewidth\":0,\"ticks\":\"\"}},\"type\":\"scattergl\"}],\"scattermapbox\":[{\"marker\":{\"colorbar\":{\"outlinewidth\":0,\"ticks\":\"\"}},\"type\":\"scattermapbox\"}],\"scatterpolar\":[{\"marker\":{\"colorbar\":{\"outlinewidth\":0,\"ticks\":\"\"}},\"type\":\"scatterpolar\"}],\"scatterpolargl\":[{\"marker\":{\"colorbar\":{\"outlinewidth\":0,\"ticks\":\"\"}},\"type\":\"scatterpolargl\"}],\"scatterternary\":[{\"marker\":{\"colorbar\":{\"outlinewidth\":0,\"ticks\":\"\"}},\"type\":\"scatterternary\"}],\"surface\":[{\"colorbar\":{\"outlinewidth\":0,\"ticks\":\"\"},\"colorscale\":[[0.0,\"#0d0887\"],[0.1111111111111111,\"#46039f\"],[0.2222222222222222,\"#7201a8\"],[0.3333333333333333,\"#9c179e\"],[0.4444444444444444,\"#bd3786\"],[0.5555555555555556,\"#d8576b\"],[0.6666666666666666,\"#ed7953\"],[0.7777777777777778,\"#fb9f3a\"],[0.8888888888888888,\"#fdca26\"],[1.0,\"#f0f921\"]],\"type\":\"surface\"}],\"table\":[{\"cells\":{\"fill\":{\"color\":\"#EBF0F8\"},\"line\":{\"color\":\"white\"}},\"header\":{\"fill\":{\"color\":\"#C8D4E3\"},\"line\":{\"color\":\"white\"}},\"type\":\"table\"}]},\"layout\":{\"annotationdefaults\":{\"arrowcolor\":\"#2a3f5f\",\"arrowhead\":0,\"arrowwidth\":1},\"autotypenumbers\":\"strict\",\"coloraxis\":{\"colorbar\":{\"outlinewidth\":0,\"ticks\":\"\"}},\"colorscale\":{\"diverging\":[[0,\"#8e0152\"],[0.1,\"#c51b7d\"],[0.2,\"#de77ae\"],[0.3,\"#f1b6da\"],[0.4,\"#fde0ef\"],[0.5,\"#f7f7f7\"],[0.6,\"#e6f5d0\"],[0.7,\"#b8e186\"],[0.8,\"#7fbc41\"],[0.9,\"#4d9221\"],[1,\"#276419\"]],\"sequential\":[[0.0,\"#0d0887\"],[0.1111111111111111,\"#46039f\"],[0.2222222222222222,\"#7201a8\"],[0.3333333333333333,\"#9c179e\"],[0.4444444444444444,\"#bd3786\"],[0.5555555555555556,\"#d8576b\"],[0.6666666666666666,\"#ed7953\"],[0.7777777777777778,\"#fb9f3a\"],[0.8888888888888888,\"#fdca26\"],[1.0,\"#f0f921\"]],\"sequentialminus\":[[0.0,\"#0d0887\"],[0.1111111111111111,\"#46039f\"],[0.2222222222222222,\"#7201a8\"],[0.3333333333333333,\"#9c179e\"],[0.4444444444444444,\"#bd3786\"],[0.5555555555555556,\"#d8576b\"],[0.6666666666666666,\"#ed7953\"],[0.7777777777777778,\"#fb9f3a\"],[0.8888888888888888,\"#fdca26\"],[1.0,\"#f0f921\"]]},\"colorway\":[\"#636efa\",\"#EF553B\",\"#00cc96\",\"#ab63fa\",\"#FFA15A\",\"#19d3f3\",\"#FF6692\",\"#B6E880\",\"#FF97FF\",\"#FECB52\"],\"font\":{\"color\":\"#2a3f5f\"},\"geo\":{\"bgcolor\":\"white\",\"lakecolor\":\"white\",\"landcolor\":\"#E5ECF6\",\"showlakes\":true,\"showland\":true,\"subunitcolor\":\"white\"},\"hoverlabel\":{\"align\":\"left\"},\"hovermode\":\"closest\",\"mapbox\":{\"style\":\"light\"},\"paper_bgcolor\":\"white\",\"plot_bgcolor\":\"#E5ECF6\",\"polar\":{\"angularaxis\":{\"gridcolor\":\"white\",\"linecolor\":\"white\",\"ticks\":\"\"},\"bgcolor\":\"#E5ECF6\",\"radialaxis\":{\"gridcolor\":\"white\",\"linecolor\":\"white\",\"ticks\":\"\"}},\"scene\":{\"xaxis\":{\"backgroundcolor\":\"#E5ECF6\",\"gridcolor\":\"white\",\"gridwidth\":2,\"linecolor\":\"white\",\"showbackground\":true,\"ticks\":\"\",\"zerolinecolor\":\"white\"},\"yaxis\":{\"backgroundcolor\":\"#E5ECF6\",\"gridcolor\":\"white\",\"gridwidth\":2,\"linecolor\":\"white\",\"showbackground\":true,\"ticks\":\"\",\"zerolinecolor\":\"white\"},\"zaxis\":{\"backgroundcolor\":\"#E5ECF6\",\"gridcolor\":\"white\",\"gridwidth\":2,\"linecolor\":\"white\",\"showbackground\":true,\"ticks\":\"\",\"zerolinecolor\":\"white\"}},\"shapedefaults\":{\"line\":{\"color\":\"#2a3f5f\"}},\"ternary\":{\"aaxis\":{\"gridcolor\":\"white\",\"linecolor\":\"white\",\"ticks\":\"\"},\"baxis\":{\"gridcolor\":\"white\",\"linecolor\":\"white\",\"ticks\":\"\"},\"bgcolor\":\"#E5ECF6\",\"caxis\":{\"gridcolor\":\"white\",\"linecolor\":\"white\",\"ticks\":\"\"}},\"title\":{\"x\":0.05},\"xaxis\":{\"automargin\":true,\"gridcolor\":\"white\",\"linecolor\":\"white\",\"ticks\":\"\",\"title\":{\"standoff\":15},\"zerolinecolor\":\"white\",\"zerolinewidth\":2},\"yaxis\":{\"automargin\":true,\"gridcolor\":\"white\",\"linecolor\":\"white\",\"ticks\":\"\",\"title\":{\"standoff\":15},\"zerolinecolor\":\"white\",\"zerolinewidth\":2}}}},                        {\"responsive\": true}                    ).then(function(){\n",
              "                            \n",
              "var gd = document.getElementById('4e96d719-827e-419c-ad2b-9d8a962ec9b2');\n",
              "var x = new MutationObserver(function (mutations, observer) {{\n",
              "        var display = window.getComputedStyle(gd).display;\n",
              "        if (!display || display === 'none') {{\n",
              "            console.log([gd, 'removed!']);\n",
              "            Plotly.purge(gd);\n",
              "            observer.disconnect();\n",
              "        }}\n",
              "}});\n",
              "\n",
              "// Listen for the removal of the full notebook cells\n",
              "var notebookContainer = gd.closest('#notebook-container');\n",
              "if (notebookContainer) {{\n",
              "    x.observe(notebookContainer, {childList: true});\n",
              "}}\n",
              "\n",
              "// Listen for the clearing of the current output cell\n",
              "var outputEl = gd.closest('.output');\n",
              "if (outputEl) {{\n",
              "    x.observe(outputEl, {childList: true});\n",
              "}}\n",
              "\n",
              "                        })                };                            </script>        </div>\n",
              "</body>\n",
              "</html>"
            ]
          },
          "metadata": {}
        }
      ]
    },
    {
      "cell_type": "code",
      "source": [
        "dados_clientes.loc[dados_clientes['cluster']==1, 'nome_cluster'] = 'Baixo risco'\n",
        "dados_clientes.loc[dados_clientes['cluster']==3, 'nome_cluster'] = 'Risco Moderado baixo'\n",
        "dados_clientes.loc[dados_clientes['cluster']==0, 'nome_cluster'] = 'Risco Moderado alto'\n",
        "dados_clientes.loc[dados_clientes['cluster']==2, 'nome_cluster'] = 'Alto Risco'"
      ],
      "metadata": {
        "id": "Lwqsdp4l7PIq"
      },
      "execution_count": 222,
      "outputs": []
    },
    {
      "cell_type": "code",
      "source": [
        "centroides_clusters"
      ],
      "metadata": {
        "colab": {
          "base_uri": "https://localhost:8080/"
        },
        "id": "DLAa3PFu9LS_",
        "outputId": "a1b40fef-c8ea-445c-fe10-94aa1b6f828f"
      },
      "execution_count": 223,
      "outputs": [
        {
          "output_type": "execute_result",
          "data": {
            "text/plain": [
              "array([[152.22429907, 185.86915888],\n",
              "       [106.84375   , 119.4296875 ],\n",
              "       [184.32394366, 218.98591549],\n",
              "       [127.34710744, 153.95867769]])"
            ]
          },
          "metadata": {},
          "execution_count": 223
        }
      ]
    },
    {
      "cell_type": "markdown",
      "source": [
        "O centróide do cluster dos clientes de Alto Risco é:\n",
        "\n",
        "---\n",
        "\n"
      ],
      "metadata": {
        "id": "-lK2qk5P9CcU"
      }
    },
    {
      "cell_type": "code",
      "source": [
        "centroides_clusters[2]"
      ],
      "metadata": {
        "colab": {
          "base_uri": "https://localhost:8080/"
        },
        "id": "5fu-rpOw9ujr",
        "outputId": "89a6261c-4d78-43a9-97df-344c96aa5d29"
      },
      "execution_count": 224,
      "outputs": [
        {
          "output_type": "execute_result",
          "data": {
            "text/plain": [
              "array([184.32394366, 218.98591549])"
            ]
          },
          "metadata": {},
          "execution_count": 224
        }
      ]
    },
    {
      "cell_type": "code",
      "source": [
        "dados_clientes"
      ],
      "metadata": {
        "colab": {
          "base_uri": "https://localhost:8080/",
          "height": 424
        },
        "id": "53FIAFM87gzm",
        "outputId": "ac5baed8-1098-4b85-bc8d-3337618a1b74"
      },
      "execution_count": 227,
      "outputs": [
        {
          "output_type": "execute_result",
          "data": {
            "text/plain": [
              "     id_cliente   peso  colesterol  cluster          nome_cluster\n",
              "0             1  102.0         111        1           Baixo risco\n",
              "1            54  149.0         183        0   Risco Moderado alto\n",
              "2            61  113.0         129        1           Baixo risco\n",
              "3           154  134.0         162        3  Risco Moderado baixo\n",
              "4           164  133.0         155        3  Risco Moderado baixo\n",
              "..          ...    ...         ...      ...                   ...\n",
              "493         452  117.0         138        3  Risco Moderado baixo\n",
              "494         454  106.0         115        1           Baixo risco\n",
              "495         510  110.0         120        1           Baixo risco\n",
              "496         516  166.0         200        0   Risco Moderado alto\n",
              "497         523  103.0         110        1           Baixo risco\n",
              "\n",
              "[498 rows x 5 columns]"
            ],
            "text/html": [
              "\n",
              "  <div id=\"df-6a21a3a0-db03-4e40-9e28-5c39abdc6d23\">\n",
              "    <div class=\"colab-df-container\">\n",
              "      <div>\n",
              "<style scoped>\n",
              "    .dataframe tbody tr th:only-of-type {\n",
              "        vertical-align: middle;\n",
              "    }\n",
              "\n",
              "    .dataframe tbody tr th {\n",
              "        vertical-align: top;\n",
              "    }\n",
              "\n",
              "    .dataframe thead th {\n",
              "        text-align: right;\n",
              "    }\n",
              "</style>\n",
              "<table border=\"1\" class=\"dataframe\">\n",
              "  <thead>\n",
              "    <tr style=\"text-align: right;\">\n",
              "      <th></th>\n",
              "      <th>id_cliente</th>\n",
              "      <th>peso</th>\n",
              "      <th>colesterol</th>\n",
              "      <th>cluster</th>\n",
              "      <th>nome_cluster</th>\n",
              "    </tr>\n",
              "  </thead>\n",
              "  <tbody>\n",
              "    <tr>\n",
              "      <th>0</th>\n",
              "      <td>1</td>\n",
              "      <td>102.0</td>\n",
              "      <td>111</td>\n",
              "      <td>1</td>\n",
              "      <td>Baixo risco</td>\n",
              "    </tr>\n",
              "    <tr>\n",
              "      <th>1</th>\n",
              "      <td>54</td>\n",
              "      <td>149.0</td>\n",
              "      <td>183</td>\n",
              "      <td>0</td>\n",
              "      <td>Risco Moderado alto</td>\n",
              "    </tr>\n",
              "    <tr>\n",
              "      <th>2</th>\n",
              "      <td>61</td>\n",
              "      <td>113.0</td>\n",
              "      <td>129</td>\n",
              "      <td>1</td>\n",
              "      <td>Baixo risco</td>\n",
              "    </tr>\n",
              "    <tr>\n",
              "      <th>3</th>\n",
              "      <td>154</td>\n",
              "      <td>134.0</td>\n",
              "      <td>162</td>\n",
              "      <td>3</td>\n",
              "      <td>Risco Moderado baixo</td>\n",
              "    </tr>\n",
              "    <tr>\n",
              "      <th>4</th>\n",
              "      <td>164</td>\n",
              "      <td>133.0</td>\n",
              "      <td>155</td>\n",
              "      <td>3</td>\n",
              "      <td>Risco Moderado baixo</td>\n",
              "    </tr>\n",
              "    <tr>\n",
              "      <th>...</th>\n",
              "      <td>...</td>\n",
              "      <td>...</td>\n",
              "      <td>...</td>\n",
              "      <td>...</td>\n",
              "      <td>...</td>\n",
              "    </tr>\n",
              "    <tr>\n",
              "      <th>493</th>\n",
              "      <td>452</td>\n",
              "      <td>117.0</td>\n",
              "      <td>138</td>\n",
              "      <td>3</td>\n",
              "      <td>Risco Moderado baixo</td>\n",
              "    </tr>\n",
              "    <tr>\n",
              "      <th>494</th>\n",
              "      <td>454</td>\n",
              "      <td>106.0</td>\n",
              "      <td>115</td>\n",
              "      <td>1</td>\n",
              "      <td>Baixo risco</td>\n",
              "    </tr>\n",
              "    <tr>\n",
              "      <th>495</th>\n",
              "      <td>510</td>\n",
              "      <td>110.0</td>\n",
              "      <td>120</td>\n",
              "      <td>1</td>\n",
              "      <td>Baixo risco</td>\n",
              "    </tr>\n",
              "    <tr>\n",
              "      <th>496</th>\n",
              "      <td>516</td>\n",
              "      <td>166.0</td>\n",
              "      <td>200</td>\n",
              "      <td>0</td>\n",
              "      <td>Risco Moderado alto</td>\n",
              "    </tr>\n",
              "    <tr>\n",
              "      <th>497</th>\n",
              "      <td>523</td>\n",
              "      <td>103.0</td>\n",
              "      <td>110</td>\n",
              "      <td>1</td>\n",
              "      <td>Baixo risco</td>\n",
              "    </tr>\n",
              "  </tbody>\n",
              "</table>\n",
              "<p>498 rows × 5 columns</p>\n",
              "</div>\n",
              "      <button class=\"colab-df-convert\" onclick=\"convertToInteractive('df-6a21a3a0-db03-4e40-9e28-5c39abdc6d23')\"\n",
              "              title=\"Convert this dataframe to an interactive table.\"\n",
              "              style=\"display:none;\">\n",
              "        \n",
              "  <svg xmlns=\"http://www.w3.org/2000/svg\" height=\"24px\"viewBox=\"0 0 24 24\"\n",
              "       width=\"24px\">\n",
              "    <path d=\"M0 0h24v24H0V0z\" fill=\"none\"/>\n",
              "    <path d=\"M18.56 5.44l.94 2.06.94-2.06 2.06-.94-2.06-.94-.94-2.06-.94 2.06-2.06.94zm-11 1L8.5 8.5l.94-2.06 2.06-.94-2.06-.94L8.5 2.5l-.94 2.06-2.06.94zm10 10l.94 2.06.94-2.06 2.06-.94-2.06-.94-.94-2.06-.94 2.06-2.06.94z\"/><path d=\"M17.41 7.96l-1.37-1.37c-.4-.4-.92-.59-1.43-.59-.52 0-1.04.2-1.43.59L10.3 9.45l-7.72 7.72c-.78.78-.78 2.05 0 2.83L4 21.41c.39.39.9.59 1.41.59.51 0 1.02-.2 1.41-.59l7.78-7.78 2.81-2.81c.8-.78.8-2.07 0-2.86zM5.41 20L4 18.59l7.72-7.72 1.47 1.35L5.41 20z\"/>\n",
              "  </svg>\n",
              "      </button>\n",
              "      \n",
              "  <style>\n",
              "    .colab-df-container {\n",
              "      display:flex;\n",
              "      flex-wrap:wrap;\n",
              "      gap: 12px;\n",
              "    }\n",
              "\n",
              "    .colab-df-convert {\n",
              "      background-color: #E8F0FE;\n",
              "      border: none;\n",
              "      border-radius: 50%;\n",
              "      cursor: pointer;\n",
              "      display: none;\n",
              "      fill: #1967D2;\n",
              "      height: 32px;\n",
              "      padding: 0 0 0 0;\n",
              "      width: 32px;\n",
              "    }\n",
              "\n",
              "    .colab-df-convert:hover {\n",
              "      background-color: #E2EBFA;\n",
              "      box-shadow: 0px 1px 2px rgba(60, 64, 67, 0.3), 0px 1px 3px 1px rgba(60, 64, 67, 0.15);\n",
              "      fill: #174EA6;\n",
              "    }\n",
              "\n",
              "    [theme=dark] .colab-df-convert {\n",
              "      background-color: #3B4455;\n",
              "      fill: #D2E3FC;\n",
              "    }\n",
              "\n",
              "    [theme=dark] .colab-df-convert:hover {\n",
              "      background-color: #434B5C;\n",
              "      box-shadow: 0px 1px 3px 1px rgba(0, 0, 0, 0.15);\n",
              "      filter: drop-shadow(0px 1px 2px rgba(0, 0, 0, 0.3));\n",
              "      fill: #FFFFFF;\n",
              "    }\n",
              "  </style>\n",
              "\n",
              "      <script>\n",
              "        const buttonEl =\n",
              "          document.querySelector('#df-6a21a3a0-db03-4e40-9e28-5c39abdc6d23 button.colab-df-convert');\n",
              "        buttonEl.style.display =\n",
              "          google.colab.kernel.accessAllowed ? 'block' : 'none';\n",
              "\n",
              "        async function convertToInteractive(key) {\n",
              "          const element = document.querySelector('#df-6a21a3a0-db03-4e40-9e28-5c39abdc6d23');\n",
              "          const dataTable =\n",
              "            await google.colab.kernel.invokeFunction('convertToInteractive',\n",
              "                                                     [key], {});\n",
              "          if (!dataTable) return;\n",
              "\n",
              "          const docLinkHtml = 'Like what you see? Visit the ' +\n",
              "            '<a target=\"_blank\" href=https://colab.research.google.com/notebooks/data_table.ipynb>data table notebook</a>'\n",
              "            + ' to learn more about interactive tables.';\n",
              "          element.innerHTML = '';\n",
              "          dataTable['output_type'] = 'display_data';\n",
              "          await google.colab.output.renderOutput(dataTable, element);\n",
              "          const docLink = document.createElement('div');\n",
              "          docLink.innerHTML = docLinkHtml;\n",
              "          element.appendChild(docLink);\n",
              "        }\n",
              "      </script>\n",
              "    </div>\n",
              "  </div>\n",
              "  "
            ]
          },
          "metadata": {},
          "execution_count": 227
        }
      ]
    },
    {
      "cell_type": "markdown",
      "source": [
        "#Pergunta 10) Qual a média de idades para o cluster de alto risco?"
      ],
      "metadata": {
        "id": "2cno9ama-L6M"
      }
    },
    {
      "cell_type": "code",
      "source": [
        "campos_esquerda = ['id_cliente', 'estado', 'genero', 'idade', 'peso', 'colesterol']\n",
        "campos_direita = ['id_cliente', 'nome_cluster']\n",
        "\n",
        "dados_clusterizados = pd.merge(df_completo_tratado[campos_esquerda], dados_clientes[campos_direita], on = 'id_cliente')\n",
        "dados_clusterizados"
      ],
      "metadata": {
        "colab": {
          "base_uri": "https://localhost:8080/",
          "height": 424
        },
        "id": "9mWkwQkU-Rdq",
        "outputId": "b58209fe-b50c-4a86-a5c1-433a85f05457"
      },
      "execution_count": 229,
      "outputs": [
        {
          "output_type": "execute_result",
          "data": {
            "text/plain": [
              "     id_cliente          estado     genero  idade   peso  colesterol  \\\n",
              "0             1         Roraima  Masculino     17  102.0         111   \n",
              "1            54         Roraima  Masculino     48  149.0         183   \n",
              "2            61         Roraima   Feminino     70  113.0         129   \n",
              "3           154         Roraima   Feminino     26  134.0         162   \n",
              "4           164         Roraima   Feminino     51  133.0         155   \n",
              "..          ...             ...        ...    ...    ...         ...   \n",
              "493         452  Rio de Janeiro   Feminino     61  117.0         138   \n",
              "494         454  Rio de Janeiro  Masculino     70  106.0         115   \n",
              "495         510  Rio de Janeiro   Feminino     48  110.0         120   \n",
              "496         516  Rio de Janeiro   Feminino     47  166.0         200   \n",
              "497         523  Rio de Janeiro  Masculino     26  103.0         110   \n",
              "\n",
              "             nome_cluster  \n",
              "0             Baixo risco  \n",
              "1     Risco Moderado alto  \n",
              "2             Baixo risco  \n",
              "3    Risco Moderado baixo  \n",
              "4    Risco Moderado baixo  \n",
              "..                    ...  \n",
              "493  Risco Moderado baixo  \n",
              "494           Baixo risco  \n",
              "495           Baixo risco  \n",
              "496   Risco Moderado alto  \n",
              "497           Baixo risco  \n",
              "\n",
              "[498 rows x 7 columns]"
            ],
            "text/html": [
              "\n",
              "  <div id=\"df-ec0f447e-ab0c-4684-bef5-a564d9296779\">\n",
              "    <div class=\"colab-df-container\">\n",
              "      <div>\n",
              "<style scoped>\n",
              "    .dataframe tbody tr th:only-of-type {\n",
              "        vertical-align: middle;\n",
              "    }\n",
              "\n",
              "    .dataframe tbody tr th {\n",
              "        vertical-align: top;\n",
              "    }\n",
              "\n",
              "    .dataframe thead th {\n",
              "        text-align: right;\n",
              "    }\n",
              "</style>\n",
              "<table border=\"1\" class=\"dataframe\">\n",
              "  <thead>\n",
              "    <tr style=\"text-align: right;\">\n",
              "      <th></th>\n",
              "      <th>id_cliente</th>\n",
              "      <th>estado</th>\n",
              "      <th>genero</th>\n",
              "      <th>idade</th>\n",
              "      <th>peso</th>\n",
              "      <th>colesterol</th>\n",
              "      <th>nome_cluster</th>\n",
              "    </tr>\n",
              "  </thead>\n",
              "  <tbody>\n",
              "    <tr>\n",
              "      <th>0</th>\n",
              "      <td>1</td>\n",
              "      <td>Roraima</td>\n",
              "      <td>Masculino</td>\n",
              "      <td>17</td>\n",
              "      <td>102.0</td>\n",
              "      <td>111</td>\n",
              "      <td>Baixo risco</td>\n",
              "    </tr>\n",
              "    <tr>\n",
              "      <th>1</th>\n",
              "      <td>54</td>\n",
              "      <td>Roraima</td>\n",
              "      <td>Masculino</td>\n",
              "      <td>48</td>\n",
              "      <td>149.0</td>\n",
              "      <td>183</td>\n",
              "      <td>Risco Moderado alto</td>\n",
              "    </tr>\n",
              "    <tr>\n",
              "      <th>2</th>\n",
              "      <td>61</td>\n",
              "      <td>Roraima</td>\n",
              "      <td>Feminino</td>\n",
              "      <td>70</td>\n",
              "      <td>113.0</td>\n",
              "      <td>129</td>\n",
              "      <td>Baixo risco</td>\n",
              "    </tr>\n",
              "    <tr>\n",
              "      <th>3</th>\n",
              "      <td>154</td>\n",
              "      <td>Roraima</td>\n",
              "      <td>Feminino</td>\n",
              "      <td>26</td>\n",
              "      <td>134.0</td>\n",
              "      <td>162</td>\n",
              "      <td>Risco Moderado baixo</td>\n",
              "    </tr>\n",
              "    <tr>\n",
              "      <th>4</th>\n",
              "      <td>164</td>\n",
              "      <td>Roraima</td>\n",
              "      <td>Feminino</td>\n",
              "      <td>51</td>\n",
              "      <td>133.0</td>\n",
              "      <td>155</td>\n",
              "      <td>Risco Moderado baixo</td>\n",
              "    </tr>\n",
              "    <tr>\n",
              "      <th>...</th>\n",
              "      <td>...</td>\n",
              "      <td>...</td>\n",
              "      <td>...</td>\n",
              "      <td>...</td>\n",
              "      <td>...</td>\n",
              "      <td>...</td>\n",
              "      <td>...</td>\n",
              "    </tr>\n",
              "    <tr>\n",
              "      <th>493</th>\n",
              "      <td>452</td>\n",
              "      <td>Rio de Janeiro</td>\n",
              "      <td>Feminino</td>\n",
              "      <td>61</td>\n",
              "      <td>117.0</td>\n",
              "      <td>138</td>\n",
              "      <td>Risco Moderado baixo</td>\n",
              "    </tr>\n",
              "    <tr>\n",
              "      <th>494</th>\n",
              "      <td>454</td>\n",
              "      <td>Rio de Janeiro</td>\n",
              "      <td>Masculino</td>\n",
              "      <td>70</td>\n",
              "      <td>106.0</td>\n",
              "      <td>115</td>\n",
              "      <td>Baixo risco</td>\n",
              "    </tr>\n",
              "    <tr>\n",
              "      <th>495</th>\n",
              "      <td>510</td>\n",
              "      <td>Rio de Janeiro</td>\n",
              "      <td>Feminino</td>\n",
              "      <td>48</td>\n",
              "      <td>110.0</td>\n",
              "      <td>120</td>\n",
              "      <td>Baixo risco</td>\n",
              "    </tr>\n",
              "    <tr>\n",
              "      <th>496</th>\n",
              "      <td>516</td>\n",
              "      <td>Rio de Janeiro</td>\n",
              "      <td>Feminino</td>\n",
              "      <td>47</td>\n",
              "      <td>166.0</td>\n",
              "      <td>200</td>\n",
              "      <td>Risco Moderado alto</td>\n",
              "    </tr>\n",
              "    <tr>\n",
              "      <th>497</th>\n",
              "      <td>523</td>\n",
              "      <td>Rio de Janeiro</td>\n",
              "      <td>Masculino</td>\n",
              "      <td>26</td>\n",
              "      <td>103.0</td>\n",
              "      <td>110</td>\n",
              "      <td>Baixo risco</td>\n",
              "    </tr>\n",
              "  </tbody>\n",
              "</table>\n",
              "<p>498 rows × 7 columns</p>\n",
              "</div>\n",
              "      <button class=\"colab-df-convert\" onclick=\"convertToInteractive('df-ec0f447e-ab0c-4684-bef5-a564d9296779')\"\n",
              "              title=\"Convert this dataframe to an interactive table.\"\n",
              "              style=\"display:none;\">\n",
              "        \n",
              "  <svg xmlns=\"http://www.w3.org/2000/svg\" height=\"24px\"viewBox=\"0 0 24 24\"\n",
              "       width=\"24px\">\n",
              "    <path d=\"M0 0h24v24H0V0z\" fill=\"none\"/>\n",
              "    <path d=\"M18.56 5.44l.94 2.06.94-2.06 2.06-.94-2.06-.94-.94-2.06-.94 2.06-2.06.94zm-11 1L8.5 8.5l.94-2.06 2.06-.94-2.06-.94L8.5 2.5l-.94 2.06-2.06.94zm10 10l.94 2.06.94-2.06 2.06-.94-2.06-.94-.94-2.06-.94 2.06-2.06.94z\"/><path d=\"M17.41 7.96l-1.37-1.37c-.4-.4-.92-.59-1.43-.59-.52 0-1.04.2-1.43.59L10.3 9.45l-7.72 7.72c-.78.78-.78 2.05 0 2.83L4 21.41c.39.39.9.59 1.41.59.51 0 1.02-.2 1.41-.59l7.78-7.78 2.81-2.81c.8-.78.8-2.07 0-2.86zM5.41 20L4 18.59l7.72-7.72 1.47 1.35L5.41 20z\"/>\n",
              "  </svg>\n",
              "      </button>\n",
              "      \n",
              "  <style>\n",
              "    .colab-df-container {\n",
              "      display:flex;\n",
              "      flex-wrap:wrap;\n",
              "      gap: 12px;\n",
              "    }\n",
              "\n",
              "    .colab-df-convert {\n",
              "      background-color: #E8F0FE;\n",
              "      border: none;\n",
              "      border-radius: 50%;\n",
              "      cursor: pointer;\n",
              "      display: none;\n",
              "      fill: #1967D2;\n",
              "      height: 32px;\n",
              "      padding: 0 0 0 0;\n",
              "      width: 32px;\n",
              "    }\n",
              "\n",
              "    .colab-df-convert:hover {\n",
              "      background-color: #E2EBFA;\n",
              "      box-shadow: 0px 1px 2px rgba(60, 64, 67, 0.3), 0px 1px 3px 1px rgba(60, 64, 67, 0.15);\n",
              "      fill: #174EA6;\n",
              "    }\n",
              "\n",
              "    [theme=dark] .colab-df-convert {\n",
              "      background-color: #3B4455;\n",
              "      fill: #D2E3FC;\n",
              "    }\n",
              "\n",
              "    [theme=dark] .colab-df-convert:hover {\n",
              "      background-color: #434B5C;\n",
              "      box-shadow: 0px 1px 3px 1px rgba(0, 0, 0, 0.15);\n",
              "      filter: drop-shadow(0px 1px 2px rgba(0, 0, 0, 0.3));\n",
              "      fill: #FFFFFF;\n",
              "    }\n",
              "  </style>\n",
              "\n",
              "      <script>\n",
              "        const buttonEl =\n",
              "          document.querySelector('#df-ec0f447e-ab0c-4684-bef5-a564d9296779 button.colab-df-convert');\n",
              "        buttonEl.style.display =\n",
              "          google.colab.kernel.accessAllowed ? 'block' : 'none';\n",
              "\n",
              "        async function convertToInteractive(key) {\n",
              "          const element = document.querySelector('#df-ec0f447e-ab0c-4684-bef5-a564d9296779');\n",
              "          const dataTable =\n",
              "            await google.colab.kernel.invokeFunction('convertToInteractive',\n",
              "                                                     [key], {});\n",
              "          if (!dataTable) return;\n",
              "\n",
              "          const docLinkHtml = 'Like what you see? Visit the ' +\n",
              "            '<a target=\"_blank\" href=https://colab.research.google.com/notebooks/data_table.ipynb>data table notebook</a>'\n",
              "            + ' to learn more about interactive tables.';\n",
              "          element.innerHTML = '';\n",
              "          dataTable['output_type'] = 'display_data';\n",
              "          await google.colab.output.renderOutput(dataTable, element);\n",
              "          const docLink = document.createElement('div');\n",
              "          docLink.innerHTML = docLinkHtml;\n",
              "          element.appendChild(docLink);\n",
              "        }\n",
              "      </script>\n",
              "    </div>\n",
              "  </div>\n",
              "  "
            ]
          },
          "metadata": {},
          "execution_count": 229
        }
      ]
    },
    {
      "cell_type": "code",
      "source": [
        "dados_clusterizados.query(\"nome_cluster == 'Alto Risco'\")['idade'].mean()"
      ],
      "metadata": {
        "colab": {
          "base_uri": "https://localhost:8080/"
        },
        "id": "Gf-97dnZA3g0",
        "outputId": "455ecf9f-4ad6-4309-f3a4-517e39e3968f"
      },
      "execution_count": 230,
      "outputs": [
        {
          "output_type": "execute_result",
          "data": {
            "text/plain": [
              "43.20422535211268"
            ]
          },
          "metadata": {},
          "execution_count": 230
        }
      ]
    },
    {
      "cell_type": "markdown",
      "source": [
        "#Pergunta 11) Qual o valor mínimo do colesterol coletado para o grupo de baixo Risco?"
      ],
      "metadata": {
        "id": "UTJuftS-BZfZ"
      }
    },
    {
      "cell_type": "code",
      "source": [
        "dados_clusterizados.query(\"nome_cluster == 'Baixo risco'\")['colesterol'].min()"
      ],
      "metadata": {
        "colab": {
          "base_uri": "https://localhost:8080/"
        },
        "id": "LbGzzbQQBKHA",
        "outputId": "9d6a66ae-6f4c-4dc5-f45c-a17dbd6d087a"
      },
      "execution_count": 231,
      "outputs": [
        {
          "output_type": "execute_result",
          "data": {
            "text/plain": [
              "102"
            ]
          },
          "metadata": {},
          "execution_count": 231
        }
      ]
    },
    {
      "cell_type": "markdown",
      "source": [
        "#Pergunta 12) Qual o peso máximo presente no cluster de alto risco?"
      ],
      "metadata": {
        "id": "TnsxRaJbBrP9"
      }
    },
    {
      "cell_type": "code",
      "source": [
        "dados_clusterizados.query(\"nome_cluster == 'Alto Risco'\")['peso'].max()"
      ],
      "metadata": {
        "colab": {
          "base_uri": "https://localhost:8080/"
        },
        "id": "2B3MuKa_BojR",
        "outputId": "c9f40436-9b7c-4d8e-85f6-fc2bb2832fa2"
      },
      "execution_count": 232,
      "outputs": [
        {
          "output_type": "execute_result",
          "data": {
            "text/plain": [
              "203.0"
            ]
          },
          "metadata": {},
          "execution_count": 232
        }
      ]
    },
    {
      "cell_type": "markdown",
      "source": [
        "#Pergunta 13) Qual o estado com maior número de pessoas que estão no grupo de risco Moderado alto?"
      ],
      "metadata": {
        "id": "kCWNIO_ECDD_"
      }
    },
    {
      "cell_type": "code",
      "source": [
        "dados_clusterizados.groupby('estado')['nome_cluster'].describe().query(\"top == 'Risco Moderado alto'\")"
      ],
      "metadata": {
        "colab": {
          "base_uri": "https://localhost:8080/",
          "height": 206
        },
        "id": "vhMMfuPJBmL8",
        "outputId": "d9afb784-390c-499f-cb0c-636e31d331a1"
      },
      "execution_count": 239,
      "outputs": [
        {
          "output_type": "execute_result",
          "data": {
            "text/plain": [
              "                   count unique                  top freq\n",
              "estado                                                   \n",
              "Mato Grosso do Sul    21      4  Risco Moderado alto    7\n",
              "Pernambuco            17      4  Risco Moderado alto    7\n",
              "Rondônia              20      4  Risco Moderado alto    7\n",
              "São Paulo             12      4  Risco Moderado alto    4"
            ],
            "text/html": [
              "\n",
              "  <div id=\"df-752061c0-dbeb-4ecb-80eb-216f9137d58b\">\n",
              "    <div class=\"colab-df-container\">\n",
              "      <div>\n",
              "<style scoped>\n",
              "    .dataframe tbody tr th:only-of-type {\n",
              "        vertical-align: middle;\n",
              "    }\n",
              "\n",
              "    .dataframe tbody tr th {\n",
              "        vertical-align: top;\n",
              "    }\n",
              "\n",
              "    .dataframe thead th {\n",
              "        text-align: right;\n",
              "    }\n",
              "</style>\n",
              "<table border=\"1\" class=\"dataframe\">\n",
              "  <thead>\n",
              "    <tr style=\"text-align: right;\">\n",
              "      <th></th>\n",
              "      <th>count</th>\n",
              "      <th>unique</th>\n",
              "      <th>top</th>\n",
              "      <th>freq</th>\n",
              "    </tr>\n",
              "    <tr>\n",
              "      <th>estado</th>\n",
              "      <th></th>\n",
              "      <th></th>\n",
              "      <th></th>\n",
              "      <th></th>\n",
              "    </tr>\n",
              "  </thead>\n",
              "  <tbody>\n",
              "    <tr>\n",
              "      <th>Mato Grosso do Sul</th>\n",
              "      <td>21</td>\n",
              "      <td>4</td>\n",
              "      <td>Risco Moderado alto</td>\n",
              "      <td>7</td>\n",
              "    </tr>\n",
              "    <tr>\n",
              "      <th>Pernambuco</th>\n",
              "      <td>17</td>\n",
              "      <td>4</td>\n",
              "      <td>Risco Moderado alto</td>\n",
              "      <td>7</td>\n",
              "    </tr>\n",
              "    <tr>\n",
              "      <th>Rondônia</th>\n",
              "      <td>20</td>\n",
              "      <td>4</td>\n",
              "      <td>Risco Moderado alto</td>\n",
              "      <td>7</td>\n",
              "    </tr>\n",
              "    <tr>\n",
              "      <th>São Paulo</th>\n",
              "      <td>12</td>\n",
              "      <td>4</td>\n",
              "      <td>Risco Moderado alto</td>\n",
              "      <td>4</td>\n",
              "    </tr>\n",
              "  </tbody>\n",
              "</table>\n",
              "</div>\n",
              "      <button class=\"colab-df-convert\" onclick=\"convertToInteractive('df-752061c0-dbeb-4ecb-80eb-216f9137d58b')\"\n",
              "              title=\"Convert this dataframe to an interactive table.\"\n",
              "              style=\"display:none;\">\n",
              "        \n",
              "  <svg xmlns=\"http://www.w3.org/2000/svg\" height=\"24px\"viewBox=\"0 0 24 24\"\n",
              "       width=\"24px\">\n",
              "    <path d=\"M0 0h24v24H0V0z\" fill=\"none\"/>\n",
              "    <path d=\"M18.56 5.44l.94 2.06.94-2.06 2.06-.94-2.06-.94-.94-2.06-.94 2.06-2.06.94zm-11 1L8.5 8.5l.94-2.06 2.06-.94-2.06-.94L8.5 2.5l-.94 2.06-2.06.94zm10 10l.94 2.06.94-2.06 2.06-.94-2.06-.94-.94-2.06-.94 2.06-2.06.94z\"/><path d=\"M17.41 7.96l-1.37-1.37c-.4-.4-.92-.59-1.43-.59-.52 0-1.04.2-1.43.59L10.3 9.45l-7.72 7.72c-.78.78-.78 2.05 0 2.83L4 21.41c.39.39.9.59 1.41.59.51 0 1.02-.2 1.41-.59l7.78-7.78 2.81-2.81c.8-.78.8-2.07 0-2.86zM5.41 20L4 18.59l7.72-7.72 1.47 1.35L5.41 20z\"/>\n",
              "  </svg>\n",
              "      </button>\n",
              "      \n",
              "  <style>\n",
              "    .colab-df-container {\n",
              "      display:flex;\n",
              "      flex-wrap:wrap;\n",
              "      gap: 12px;\n",
              "    }\n",
              "\n",
              "    .colab-df-convert {\n",
              "      background-color: #E8F0FE;\n",
              "      border: none;\n",
              "      border-radius: 50%;\n",
              "      cursor: pointer;\n",
              "      display: none;\n",
              "      fill: #1967D2;\n",
              "      height: 32px;\n",
              "      padding: 0 0 0 0;\n",
              "      width: 32px;\n",
              "    }\n",
              "\n",
              "    .colab-df-convert:hover {\n",
              "      background-color: #E2EBFA;\n",
              "      box-shadow: 0px 1px 2px rgba(60, 64, 67, 0.3), 0px 1px 3px 1px rgba(60, 64, 67, 0.15);\n",
              "      fill: #174EA6;\n",
              "    }\n",
              "\n",
              "    [theme=dark] .colab-df-convert {\n",
              "      background-color: #3B4455;\n",
              "      fill: #D2E3FC;\n",
              "    }\n",
              "\n",
              "    [theme=dark] .colab-df-convert:hover {\n",
              "      background-color: #434B5C;\n",
              "      box-shadow: 0px 1px 3px 1px rgba(0, 0, 0, 0.15);\n",
              "      filter: drop-shadow(0px 1px 2px rgba(0, 0, 0, 0.3));\n",
              "      fill: #FFFFFF;\n",
              "    }\n",
              "  </style>\n",
              "\n",
              "      <script>\n",
              "        const buttonEl =\n",
              "          document.querySelector('#df-752061c0-dbeb-4ecb-80eb-216f9137d58b button.colab-df-convert');\n",
              "        buttonEl.style.display =\n",
              "          google.colab.kernel.accessAllowed ? 'block' : 'none';\n",
              "\n",
              "        async function convertToInteractive(key) {\n",
              "          const element = document.querySelector('#df-752061c0-dbeb-4ecb-80eb-216f9137d58b');\n",
              "          const dataTable =\n",
              "            await google.colab.kernel.invokeFunction('convertToInteractive',\n",
              "                                                     [key], {});\n",
              "          if (!dataTable) return;\n",
              "\n",
              "          const docLinkHtml = 'Like what you see? Visit the ' +\n",
              "            '<a target=\"_blank\" href=https://colab.research.google.com/notebooks/data_table.ipynb>data table notebook</a>'\n",
              "            + ' to learn more about interactive tables.';\n",
              "          element.innerHTML = '';\n",
              "          dataTable['output_type'] = 'display_data';\n",
              "          await google.colab.output.renderOutput(dataTable, element);\n",
              "          const docLink = document.createElement('div');\n",
              "          docLink.innerHTML = docLinkHtml;\n",
              "          element.appendChild(docLink);\n",
              "        }\n",
              "      </script>\n",
              "    </div>\n",
              "  </div>\n",
              "  "
            ]
          },
          "metadata": {},
          "execution_count": 239
        }
      ]
    },
    {
      "cell_type": "markdown",
      "source": [
        "#Pergunta 14) Qual a média dos pesos para o grupo de risco moderado baixo?"
      ],
      "metadata": {
        "id": "MOC3cCWEDmKI"
      }
    },
    {
      "cell_type": "code",
      "source": [
        "dados_clusterizados.query(\"nome_cluster == 'Risco Moderado baixo'\")['peso'].mean()"
      ],
      "metadata": {
        "colab": {
          "base_uri": "https://localhost:8080/"
        },
        "id": "ThcMCy1jDkv-",
        "outputId": "ed186c8e-a19f-4d08-e565-fd763105fe84"
      },
      "execution_count": 240,
      "outputs": [
        {
          "output_type": "execute_result",
          "data": {
            "text/plain": [
              "127.4672131147541"
            ]
          },
          "metadata": {},
          "execution_count": 240
        }
      ]
    },
    {
      "cell_type": "markdown",
      "source": [
        "#Pergunta 15) Assinale a alternativa CORRETA:"
      ],
      "metadata": {
        "id": "-AsxJ_ZyD7c1"
      }
    },
    {
      "cell_type": "markdown",
      "source": [
        "O grupo de baixo risco possui 76 pessoas do gênero feminino. (Falsa)"
      ],
      "metadata": {
        "id": "kFhfXzXsEF1U"
      }
    },
    {
      "cell_type": "code",
      "source": [
        "len(dados_clusterizados.query(\"nome_cluster == 'Baixo risco' & genero == 'Feminino'\"))"
      ],
      "metadata": {
        "colab": {
          "base_uri": "https://localhost:8080/"
        },
        "id": "kPu3zzdMCvax",
        "outputId": "367982ca-44be-4bf5-b892-7966c8fee9f5"
      },
      "execution_count": 242,
      "outputs": [
        {
          "output_type": "execute_result",
          "data": {
            "text/plain": [
              "57"
            ]
          },
          "metadata": {},
          "execution_count": 242
        }
      ]
    },
    {
      "cell_type": "markdown",
      "source": [
        "O grupo de alto risco possui média maior de colesterol para o gênero feminino em comparação ao gênero masculino. (Verdadeira)"
      ],
      "metadata": {
        "id": "eLAlcVQtEfsO"
      }
    },
    {
      "cell_type": "markdown",
      "source": [
        "O desvio padrão para a variável colesterol do grupo de risco moderado alto é de 9.19 para o gênero feminino. (Falsa)"
      ],
      "metadata": {
        "id": "7TU_sLycE4FC"
      }
    },
    {
      "cell_type": "code",
      "source": [
        "dados_clusterizados.groupby(['nome_cluster', 'genero'])[['colesterol']].describe()"
      ],
      "metadata": {
        "colab": {
          "base_uri": "https://localhost:8080/",
          "height": 363
        },
        "id": "KRC-2SxDEYXT",
        "outputId": "db8aa3e4-699e-4241-d14a-f6b1f4c70d45"
      },
      "execution_count": 243,
      "outputs": [
        {
          "output_type": "execute_result",
          "data": {
            "text/plain": [
              "                               colesterol                                \\\n",
              "                                    count        mean        std    min   \n",
              "nome_cluster         genero                                               \n",
              "Alto Risco           Feminino        60.0  220.650000   6.456701  204.0   \n",
              "                     Masculino       82.0  217.768293   8.939162  204.0   \n",
              "Baixo risco          Feminino        57.0  122.175439  10.252391  102.0   \n",
              "                     Masculino       71.0  117.225352   9.677953  102.0   \n",
              "Risco Moderado alto  Feminino        59.0  186.152542  10.182496  168.0   \n",
              "                     Masculino       47.0  185.893617   9.311596  172.0   \n",
              "Risco Moderado baixo Feminino        64.0  156.281250   9.798718  138.0   \n",
              "                     Masculino       58.0  151.637931   9.389614  138.0   \n",
              "\n",
              "                                                             \n",
              "                                   25%    50%    75%    max  \n",
              "nome_cluster         genero                                  \n",
              "Alto Risco           Feminino   216.75  221.0  225.0  235.0  \n",
              "                     Masculino  211.00  219.0  225.0  235.0  \n",
              "Baixo risco          Feminino   112.00  124.0  130.0  137.0  \n",
              "                     Masculino  109.00  115.0  126.0  136.0  \n",
              "Risco Moderado alto  Feminino   176.00  189.0  194.5  201.0  \n",
              "                     Masculino  178.00  184.0  192.5  203.0  \n",
              "Risco Moderado baixo Feminino   149.00  156.0  166.0  171.0  \n",
              "                     Masculino  143.25  151.5  158.0  168.0  "
            ],
            "text/html": [
              "\n",
              "  <div id=\"df-e60282f0-fef5-4252-923a-e23245d187b8\">\n",
              "    <div class=\"colab-df-container\">\n",
              "      <div>\n",
              "<style scoped>\n",
              "    .dataframe tbody tr th:only-of-type {\n",
              "        vertical-align: middle;\n",
              "    }\n",
              "\n",
              "    .dataframe tbody tr th {\n",
              "        vertical-align: top;\n",
              "    }\n",
              "\n",
              "    .dataframe thead tr th {\n",
              "        text-align: left;\n",
              "    }\n",
              "\n",
              "    .dataframe thead tr:last-of-type th {\n",
              "        text-align: right;\n",
              "    }\n",
              "</style>\n",
              "<table border=\"1\" class=\"dataframe\">\n",
              "  <thead>\n",
              "    <tr>\n",
              "      <th></th>\n",
              "      <th></th>\n",
              "      <th colspan=\"8\" halign=\"left\">colesterol</th>\n",
              "    </tr>\n",
              "    <tr>\n",
              "      <th></th>\n",
              "      <th></th>\n",
              "      <th>count</th>\n",
              "      <th>mean</th>\n",
              "      <th>std</th>\n",
              "      <th>min</th>\n",
              "      <th>25%</th>\n",
              "      <th>50%</th>\n",
              "      <th>75%</th>\n",
              "      <th>max</th>\n",
              "    </tr>\n",
              "    <tr>\n",
              "      <th>nome_cluster</th>\n",
              "      <th>genero</th>\n",
              "      <th></th>\n",
              "      <th></th>\n",
              "      <th></th>\n",
              "      <th></th>\n",
              "      <th></th>\n",
              "      <th></th>\n",
              "      <th></th>\n",
              "      <th></th>\n",
              "    </tr>\n",
              "  </thead>\n",
              "  <tbody>\n",
              "    <tr>\n",
              "      <th rowspan=\"2\" valign=\"top\">Alto Risco</th>\n",
              "      <th>Feminino</th>\n",
              "      <td>60.0</td>\n",
              "      <td>220.650000</td>\n",
              "      <td>6.456701</td>\n",
              "      <td>204.0</td>\n",
              "      <td>216.75</td>\n",
              "      <td>221.0</td>\n",
              "      <td>225.0</td>\n",
              "      <td>235.0</td>\n",
              "    </tr>\n",
              "    <tr>\n",
              "      <th>Masculino</th>\n",
              "      <td>82.0</td>\n",
              "      <td>217.768293</td>\n",
              "      <td>8.939162</td>\n",
              "      <td>204.0</td>\n",
              "      <td>211.00</td>\n",
              "      <td>219.0</td>\n",
              "      <td>225.0</td>\n",
              "      <td>235.0</td>\n",
              "    </tr>\n",
              "    <tr>\n",
              "      <th rowspan=\"2\" valign=\"top\">Baixo risco</th>\n",
              "      <th>Feminino</th>\n",
              "      <td>57.0</td>\n",
              "      <td>122.175439</td>\n",
              "      <td>10.252391</td>\n",
              "      <td>102.0</td>\n",
              "      <td>112.00</td>\n",
              "      <td>124.0</td>\n",
              "      <td>130.0</td>\n",
              "      <td>137.0</td>\n",
              "    </tr>\n",
              "    <tr>\n",
              "      <th>Masculino</th>\n",
              "      <td>71.0</td>\n",
              "      <td>117.225352</td>\n",
              "      <td>9.677953</td>\n",
              "      <td>102.0</td>\n",
              "      <td>109.00</td>\n",
              "      <td>115.0</td>\n",
              "      <td>126.0</td>\n",
              "      <td>136.0</td>\n",
              "    </tr>\n",
              "    <tr>\n",
              "      <th rowspan=\"2\" valign=\"top\">Risco Moderado alto</th>\n",
              "      <th>Feminino</th>\n",
              "      <td>59.0</td>\n",
              "      <td>186.152542</td>\n",
              "      <td>10.182496</td>\n",
              "      <td>168.0</td>\n",
              "      <td>176.00</td>\n",
              "      <td>189.0</td>\n",
              "      <td>194.5</td>\n",
              "      <td>201.0</td>\n",
              "    </tr>\n",
              "    <tr>\n",
              "      <th>Masculino</th>\n",
              "      <td>47.0</td>\n",
              "      <td>185.893617</td>\n",
              "      <td>9.311596</td>\n",
              "      <td>172.0</td>\n",
              "      <td>178.00</td>\n",
              "      <td>184.0</td>\n",
              "      <td>192.5</td>\n",
              "      <td>203.0</td>\n",
              "    </tr>\n",
              "    <tr>\n",
              "      <th rowspan=\"2\" valign=\"top\">Risco Moderado baixo</th>\n",
              "      <th>Feminino</th>\n",
              "      <td>64.0</td>\n",
              "      <td>156.281250</td>\n",
              "      <td>9.798718</td>\n",
              "      <td>138.0</td>\n",
              "      <td>149.00</td>\n",
              "      <td>156.0</td>\n",
              "      <td>166.0</td>\n",
              "      <td>171.0</td>\n",
              "    </tr>\n",
              "    <tr>\n",
              "      <th>Masculino</th>\n",
              "      <td>58.0</td>\n",
              "      <td>151.637931</td>\n",
              "      <td>9.389614</td>\n",
              "      <td>138.0</td>\n",
              "      <td>143.25</td>\n",
              "      <td>151.5</td>\n",
              "      <td>158.0</td>\n",
              "      <td>168.0</td>\n",
              "    </tr>\n",
              "  </tbody>\n",
              "</table>\n",
              "</div>\n",
              "      <button class=\"colab-df-convert\" onclick=\"convertToInteractive('df-e60282f0-fef5-4252-923a-e23245d187b8')\"\n",
              "              title=\"Convert this dataframe to an interactive table.\"\n",
              "              style=\"display:none;\">\n",
              "        \n",
              "  <svg xmlns=\"http://www.w3.org/2000/svg\" height=\"24px\"viewBox=\"0 0 24 24\"\n",
              "       width=\"24px\">\n",
              "    <path d=\"M0 0h24v24H0V0z\" fill=\"none\"/>\n",
              "    <path d=\"M18.56 5.44l.94 2.06.94-2.06 2.06-.94-2.06-.94-.94-2.06-.94 2.06-2.06.94zm-11 1L8.5 8.5l.94-2.06 2.06-.94-2.06-.94L8.5 2.5l-.94 2.06-2.06.94zm10 10l.94 2.06.94-2.06 2.06-.94-2.06-.94-.94-2.06-.94 2.06-2.06.94z\"/><path d=\"M17.41 7.96l-1.37-1.37c-.4-.4-.92-.59-1.43-.59-.52 0-1.04.2-1.43.59L10.3 9.45l-7.72 7.72c-.78.78-.78 2.05 0 2.83L4 21.41c.39.39.9.59 1.41.59.51 0 1.02-.2 1.41-.59l7.78-7.78 2.81-2.81c.8-.78.8-2.07 0-2.86zM5.41 20L4 18.59l7.72-7.72 1.47 1.35L5.41 20z\"/>\n",
              "  </svg>\n",
              "      </button>\n",
              "      \n",
              "  <style>\n",
              "    .colab-df-container {\n",
              "      display:flex;\n",
              "      flex-wrap:wrap;\n",
              "      gap: 12px;\n",
              "    }\n",
              "\n",
              "    .colab-df-convert {\n",
              "      background-color: #E8F0FE;\n",
              "      border: none;\n",
              "      border-radius: 50%;\n",
              "      cursor: pointer;\n",
              "      display: none;\n",
              "      fill: #1967D2;\n",
              "      height: 32px;\n",
              "      padding: 0 0 0 0;\n",
              "      width: 32px;\n",
              "    }\n",
              "\n",
              "    .colab-df-convert:hover {\n",
              "      background-color: #E2EBFA;\n",
              "      box-shadow: 0px 1px 2px rgba(60, 64, 67, 0.3), 0px 1px 3px 1px rgba(60, 64, 67, 0.15);\n",
              "      fill: #174EA6;\n",
              "    }\n",
              "\n",
              "    [theme=dark] .colab-df-convert {\n",
              "      background-color: #3B4455;\n",
              "      fill: #D2E3FC;\n",
              "    }\n",
              "\n",
              "    [theme=dark] .colab-df-convert:hover {\n",
              "      background-color: #434B5C;\n",
              "      box-shadow: 0px 1px 3px 1px rgba(0, 0, 0, 0.15);\n",
              "      filter: drop-shadow(0px 1px 2px rgba(0, 0, 0, 0.3));\n",
              "      fill: #FFFFFF;\n",
              "    }\n",
              "  </style>\n",
              "\n",
              "      <script>\n",
              "        const buttonEl =\n",
              "          document.querySelector('#df-e60282f0-fef5-4252-923a-e23245d187b8 button.colab-df-convert');\n",
              "        buttonEl.style.display =\n",
              "          google.colab.kernel.accessAllowed ? 'block' : 'none';\n",
              "\n",
              "        async function convertToInteractive(key) {\n",
              "          const element = document.querySelector('#df-e60282f0-fef5-4252-923a-e23245d187b8');\n",
              "          const dataTable =\n",
              "            await google.colab.kernel.invokeFunction('convertToInteractive',\n",
              "                                                     [key], {});\n",
              "          if (!dataTable) return;\n",
              "\n",
              "          const docLinkHtml = 'Like what you see? Visit the ' +\n",
              "            '<a target=\"_blank\" href=https://colab.research.google.com/notebooks/data_table.ipynb>data table notebook</a>'\n",
              "            + ' to learn more about interactive tables.';\n",
              "          element.innerHTML = '';\n",
              "          dataTable['output_type'] = 'display_data';\n",
              "          await google.colab.output.renderOutput(dataTable, element);\n",
              "          const docLink = document.createElement('div');\n",
              "          docLink.innerHTML = docLinkHtml;\n",
              "          element.appendChild(docLink);\n",
              "        }\n",
              "      </script>\n",
              "    </div>\n",
              "  </div>\n",
              "  "
            ]
          },
          "metadata": {},
          "execution_count": 243
        }
      ]
    },
    {
      "cell_type": "markdown",
      "source": [
        "Nenhuma das alternativas. (Falsa)"
      ],
      "metadata": {
        "id": "gC1M7qC7FFo5"
      }
    }
  ]
}